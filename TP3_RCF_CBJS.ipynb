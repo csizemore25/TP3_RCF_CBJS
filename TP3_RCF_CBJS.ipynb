{
 "cells": [
  {
   "cell_type": "markdown",
   "id": "0e78c554",
   "metadata": {},
   "source": [
    "# Team Project 3\n",
    "## Caitlin Sizemore and Ryan Fox\n",
    "### DS 160-01 SP 2023"
   ]
  },
  {
   "cell_type": "markdown",
   "id": "a4e775ef",
   "metadata": {},
   "source": [
    "### Importing Libraries and Dataset"
   ]
  },
  {
   "cell_type": "code",
   "execution_count": 1,
   "id": "c47c578f",
   "metadata": {},
   "outputs": [],
   "source": [
    "import numpy as np\n",
    "import matplotlib.pyplot as plt\n",
    "import seaborn as sns\n",
    "import pandas as pd"
   ]
  },
  {
   "cell_type": "code",
   "execution_count": 2,
   "id": "ee2a028d",
   "metadata": {},
   "outputs": [],
   "source": [
    "dataset=pd.read_csv(\"Hitters.csv\")"
   ]
  },
  {
   "cell_type": "code",
   "execution_count": 3,
   "id": "7b5bff03",
   "metadata": {
    "scrolled": true
   },
   "outputs": [
    {
     "data": {
      "text/html": [
       "<div>\n",
       "<style scoped>\n",
       "    .dataframe tbody tr th:only-of-type {\n",
       "        vertical-align: middle;\n",
       "    }\n",
       "\n",
       "    .dataframe tbody tr th {\n",
       "        vertical-align: top;\n",
       "    }\n",
       "\n",
       "    .dataframe thead th {\n",
       "        text-align: right;\n",
       "    }\n",
       "</style>\n",
       "<table border=\"1\" class=\"dataframe\">\n",
       "  <thead>\n",
       "    <tr style=\"text-align: right;\">\n",
       "      <th></th>\n",
       "      <th>AtBat</th>\n",
       "      <th>Hits</th>\n",
       "      <th>HmRun</th>\n",
       "      <th>Runs</th>\n",
       "      <th>RBI</th>\n",
       "      <th>Walks</th>\n",
       "      <th>Years</th>\n",
       "      <th>CAtBat</th>\n",
       "      <th>CHits</th>\n",
       "      <th>CHmRun</th>\n",
       "      <th>CRuns</th>\n",
       "      <th>CRBI</th>\n",
       "      <th>CWalks</th>\n",
       "      <th>League</th>\n",
       "      <th>Division</th>\n",
       "      <th>PutOuts</th>\n",
       "      <th>Assists</th>\n",
       "      <th>Errors</th>\n",
       "      <th>Salary</th>\n",
       "      <th>NewLeague</th>\n",
       "    </tr>\n",
       "  </thead>\n",
       "  <tbody>\n",
       "    <tr>\n",
       "      <th>0</th>\n",
       "      <td>293</td>\n",
       "      <td>66</td>\n",
       "      <td>1</td>\n",
       "      <td>30</td>\n",
       "      <td>29</td>\n",
       "      <td>14</td>\n",
       "      <td>1</td>\n",
       "      <td>293</td>\n",
       "      <td>66</td>\n",
       "      <td>1</td>\n",
       "      <td>30</td>\n",
       "      <td>29</td>\n",
       "      <td>14</td>\n",
       "      <td>A</td>\n",
       "      <td>E</td>\n",
       "      <td>446</td>\n",
       "      <td>33</td>\n",
       "      <td>20</td>\n",
       "      <td>NaN</td>\n",
       "      <td>A</td>\n",
       "    </tr>\n",
       "    <tr>\n",
       "      <th>1</th>\n",
       "      <td>315</td>\n",
       "      <td>81</td>\n",
       "      <td>7</td>\n",
       "      <td>24</td>\n",
       "      <td>38</td>\n",
       "      <td>39</td>\n",
       "      <td>14</td>\n",
       "      <td>3449</td>\n",
       "      <td>835</td>\n",
       "      <td>69</td>\n",
       "      <td>321</td>\n",
       "      <td>414</td>\n",
       "      <td>375</td>\n",
       "      <td>N</td>\n",
       "      <td>W</td>\n",
       "      <td>632</td>\n",
       "      <td>43</td>\n",
       "      <td>10</td>\n",
       "      <td>475.0</td>\n",
       "      <td>N</td>\n",
       "    </tr>\n",
       "    <tr>\n",
       "      <th>2</th>\n",
       "      <td>479</td>\n",
       "      <td>130</td>\n",
       "      <td>18</td>\n",
       "      <td>66</td>\n",
       "      <td>72</td>\n",
       "      <td>76</td>\n",
       "      <td>3</td>\n",
       "      <td>1624</td>\n",
       "      <td>457</td>\n",
       "      <td>63</td>\n",
       "      <td>224</td>\n",
       "      <td>266</td>\n",
       "      <td>263</td>\n",
       "      <td>A</td>\n",
       "      <td>W</td>\n",
       "      <td>880</td>\n",
       "      <td>82</td>\n",
       "      <td>14</td>\n",
       "      <td>480.0</td>\n",
       "      <td>A</td>\n",
       "    </tr>\n",
       "    <tr>\n",
       "      <th>3</th>\n",
       "      <td>496</td>\n",
       "      <td>141</td>\n",
       "      <td>20</td>\n",
       "      <td>65</td>\n",
       "      <td>78</td>\n",
       "      <td>37</td>\n",
       "      <td>11</td>\n",
       "      <td>5628</td>\n",
       "      <td>1575</td>\n",
       "      <td>225</td>\n",
       "      <td>828</td>\n",
       "      <td>838</td>\n",
       "      <td>354</td>\n",
       "      <td>N</td>\n",
       "      <td>E</td>\n",
       "      <td>200</td>\n",
       "      <td>11</td>\n",
       "      <td>3</td>\n",
       "      <td>500.0</td>\n",
       "      <td>N</td>\n",
       "    </tr>\n",
       "    <tr>\n",
       "      <th>4</th>\n",
       "      <td>321</td>\n",
       "      <td>87</td>\n",
       "      <td>10</td>\n",
       "      <td>39</td>\n",
       "      <td>42</td>\n",
       "      <td>30</td>\n",
       "      <td>2</td>\n",
       "      <td>396</td>\n",
       "      <td>101</td>\n",
       "      <td>12</td>\n",
       "      <td>48</td>\n",
       "      <td>46</td>\n",
       "      <td>33</td>\n",
       "      <td>N</td>\n",
       "      <td>E</td>\n",
       "      <td>805</td>\n",
       "      <td>40</td>\n",
       "      <td>4</td>\n",
       "      <td>91.5</td>\n",
       "      <td>N</td>\n",
       "    </tr>\n",
       "  </tbody>\n",
       "</table>\n",
       "</div>"
      ],
      "text/plain": [
       "   AtBat  Hits  HmRun  Runs  RBI  Walks  Years  CAtBat  CHits  CHmRun  CRuns  \\\n",
       "0    293    66      1    30   29     14      1     293     66       1     30   \n",
       "1    315    81      7    24   38     39     14    3449    835      69    321   \n",
       "2    479   130     18    66   72     76      3    1624    457      63    224   \n",
       "3    496   141     20    65   78     37     11    5628   1575     225    828   \n",
       "4    321    87     10    39   42     30      2     396    101      12     48   \n",
       "\n",
       "   CRBI  CWalks League Division  PutOuts  Assists  Errors  Salary NewLeague  \n",
       "0    29      14      A        E      446       33      20     NaN         A  \n",
       "1   414     375      N        W      632       43      10   475.0         N  \n",
       "2   266     263      A        W      880       82      14   480.0         A  \n",
       "3   838     354      N        E      200       11       3   500.0         N  \n",
       "4    46      33      N        E      805       40       4    91.5         N  "
      ]
     },
     "execution_count": 3,
     "metadata": {},
     "output_type": "execute_result"
    }
   ],
   "source": [
    "dataset.head()"
   ]
  },
  {
   "cell_type": "markdown",
   "id": "5b38f8ca",
   "metadata": {},
   "source": [
    "### Missing Values"
   ]
  },
  {
   "cell_type": "code",
   "execution_count": 4,
   "id": "d9025334",
   "metadata": {},
   "outputs": [
    {
     "data": {
      "text/plain": [
       "AtBat         0\n",
       "Hits          0\n",
       "HmRun         0\n",
       "Runs          0\n",
       "RBI           0\n",
       "Walks         0\n",
       "Years         0\n",
       "CAtBat        0\n",
       "CHits         0\n",
       "CHmRun        0\n",
       "CRuns         0\n",
       "CRBI          0\n",
       "CWalks        0\n",
       "League        0\n",
       "Division      0\n",
       "PutOuts       0\n",
       "Assists       0\n",
       "Errors        0\n",
       "Salary       59\n",
       "NewLeague     0\n",
       "dtype: int64"
      ]
     },
     "execution_count": 4,
     "metadata": {},
     "output_type": "execute_result"
    }
   ],
   "source": [
    "dataset.isnull().sum()"
   ]
  },
  {
   "cell_type": "code",
   "execution_count": 5,
   "id": "a7bb39d6",
   "metadata": {},
   "outputs": [
    {
     "data": {
      "text/plain": [
       "<AxesSubplot:xlabel='Salary', ylabel='Count'>"
      ]
     },
     "execution_count": 5,
     "metadata": {},
     "output_type": "execute_result"
    },
    {
     "data": {
      "image/png": "[encoded data removed]",
      "text/plain": [
       "<Figure size 432x288 with 1 Axes>"
      ]
     },
     "metadata": {
      "needs_background": "light"
     },
     "output_type": "display_data"
    }
   ],
   "source": [
    "sns.histplot(dataset.Salary)"
   ]
  },
  {
   "cell_type": "code",
   "execution_count": 6,
   "id": "125e8a9f",
   "metadata": {},
   "outputs": [
    {
     "name": "stdout",
     "output_type": "stream",
     "text": [
      "Mean Salary: 535.9258821292775 in thousands\n"
     ]
    }
   ],
   "source": [
    "sal=dataset['Salary'].mean()\n",
    "print(f\"Mean Salary: {sal} in thousands\")"
   ]
  },
  {
   "cell_type": "code",
   "execution_count": 7,
   "id": "6109676d",
   "metadata": {},
   "outputs": [],
   "source": [
    "dataset['Salary'].fillna(sal, inplace=True)"
   ]
  },
  {
   "cell_type": "markdown",
   "id": "d45a12de",
   "metadata": {},
   "source": [
    "### Split into Independent and Dependent"
   ]
  },
  {
   "cell_type": "code",
   "execution_count": 8,
   "id": "a44e95c9",
   "metadata": {},
   "outputs": [
    {
     "name": "stdout",
     "output_type": "stream",
     "text": [
      "<class 'pandas.core.frame.DataFrame'>\n",
      "RangeIndex: 322 entries, 0 to 321\n",
      "Data columns (total 20 columns):\n",
      " #   Column     Non-Null Count  Dtype  \n",
      "---  ------     --------------  -----  \n",
      " 0   AtBat      322 non-null    int64  \n",
      " 1   Hits       322 non-null    int64  \n",
      " 2   HmRun      322 non-null    int64  \n",
      " 3   Runs       322 non-null    int64  \n",
      " 4   RBI        322 non-null    int64  \n",
      " 5   Walks      322 non-null    int64  \n",
      " 6   Years      322 non-null    int64  \n",
      " 7   CAtBat     322 non-null    int64  \n",
      " 8   CHits      322 non-null    int64  \n",
      " 9   CHmRun     322 non-null    int64  \n",
      " 10  CRuns      322 non-null    int64  \n",
      " 11  CRBI       322 non-null    int64  \n",
      " 12  CWalks     322 non-null    int64  \n",
      " 13  League     322 non-null    object \n",
      " 14  Division   322 non-null    object \n",
      " 15  PutOuts    322 non-null    int64  \n",
      " 16  Assists    322 non-null    int64  \n",
      " 17  Errors     322 non-null    int64  \n",
      " 18  Salary     322 non-null    float64\n",
      " 19  NewLeague  322 non-null    object \n",
      "dtypes: float64(1), int64(16), object(3)\n",
      "memory usage: 50.4+ KB\n"
     ]
    }
   ],
   "source": [
    "dataset.info()"
   ]
  },
  {
   "cell_type": "code",
   "execution_count": 9,
   "id": "51db0474",
   "metadata": {},
   "outputs": [],
   "source": [
    "X=dataset.drop(\"Salary\", axis=1)\n",
    "y=dataset[['Salary']]"
   ]
  },
  {
   "cell_type": "code",
   "execution_count": 10,
   "id": "2514cd3f",
   "metadata": {},
   "outputs": [
    {
     "data": {
      "text/html": [
       "<div>\n",
       "<style scoped>\n",
       "    .dataframe tbody tr th:only-of-type {\n",
       "        vertical-align: middle;\n",
       "    }\n",
       "\n",
       "    .dataframe tbody tr th {\n",
       "        vertical-align: top;\n",
       "    }\n",
       "\n",
       "    .dataframe thead th {\n",
       "        text-align: right;\n",
       "    }\n",
       "</style>\n",
       "<table border=\"1\" class=\"dataframe\">\n",
       "  <thead>\n",
       "    <tr style=\"text-align: right;\">\n",
       "      <th></th>\n",
       "      <th>AtBat</th>\n",
       "      <th>Hits</th>\n",
       "      <th>HmRun</th>\n",
       "      <th>Runs</th>\n",
       "      <th>RBI</th>\n",
       "      <th>Walks</th>\n",
       "      <th>Years</th>\n",
       "      <th>CAtBat</th>\n",
       "      <th>CHits</th>\n",
       "      <th>CHmRun</th>\n",
       "      <th>CRuns</th>\n",
       "      <th>CRBI</th>\n",
       "      <th>CWalks</th>\n",
       "      <th>League</th>\n",
       "      <th>Division</th>\n",
       "      <th>PutOuts</th>\n",
       "      <th>Assists</th>\n",
       "      <th>Errors</th>\n",
       "      <th>NewLeague</th>\n",
       "    </tr>\n",
       "  </thead>\n",
       "  <tbody>\n",
       "    <tr>\n",
       "      <th>0</th>\n",
       "      <td>293</td>\n",
       "      <td>66</td>\n",
       "      <td>1</td>\n",
       "      <td>30</td>\n",
       "      <td>29</td>\n",
       "      <td>14</td>\n",
       "      <td>1</td>\n",
       "      <td>293</td>\n",
       "      <td>66</td>\n",
       "      <td>1</td>\n",
       "      <td>30</td>\n",
       "      <td>29</td>\n",
       "      <td>14</td>\n",
       "      <td>A</td>\n",
       "      <td>E</td>\n",
       "      <td>446</td>\n",
       "      <td>33</td>\n",
       "      <td>20</td>\n",
       "      <td>A</td>\n",
       "    </tr>\n",
       "    <tr>\n",
       "      <th>1</th>\n",
       "      <td>315</td>\n",
       "      <td>81</td>\n",
       "      <td>7</td>\n",
       "      <td>24</td>\n",
       "      <td>38</td>\n",
       "      <td>39</td>\n",
       "      <td>14</td>\n",
       "      <td>3449</td>\n",
       "      <td>835</td>\n",
       "      <td>69</td>\n",
       "      <td>321</td>\n",
       "      <td>414</td>\n",
       "      <td>375</td>\n",
       "      <td>N</td>\n",
       "      <td>W</td>\n",
       "      <td>632</td>\n",
       "      <td>43</td>\n",
       "      <td>10</td>\n",
       "      <td>N</td>\n",
       "    </tr>\n",
       "    <tr>\n",
       "      <th>2</th>\n",
       "      <td>479</td>\n",
       "      <td>130</td>\n",
       "      <td>18</td>\n",
       "      <td>66</td>\n",
       "      <td>72</td>\n",
       "      <td>76</td>\n",
       "      <td>3</td>\n",
       "      <td>1624</td>\n",
       "      <td>457</td>\n",
       "      <td>63</td>\n",
       "      <td>224</td>\n",
       "      <td>266</td>\n",
       "      <td>263</td>\n",
       "      <td>A</td>\n",
       "      <td>W</td>\n",
       "      <td>880</td>\n",
       "      <td>82</td>\n",
       "      <td>14</td>\n",
       "      <td>A</td>\n",
       "    </tr>\n",
       "    <tr>\n",
       "      <th>3</th>\n",
       "      <td>496</td>\n",
       "      <td>141</td>\n",
       "      <td>20</td>\n",
       "      <td>65</td>\n",
       "      <td>78</td>\n",
       "      <td>37</td>\n",
       "      <td>11</td>\n",
       "      <td>5628</td>\n",
       "      <td>1575</td>\n",
       "      <td>225</td>\n",
       "      <td>828</td>\n",
       "      <td>838</td>\n",
       "      <td>354</td>\n",
       "      <td>N</td>\n",
       "      <td>E</td>\n",
       "      <td>200</td>\n",
       "      <td>11</td>\n",
       "      <td>3</td>\n",
       "      <td>N</td>\n",
       "    </tr>\n",
       "    <tr>\n",
       "      <th>4</th>\n",
       "      <td>321</td>\n",
       "      <td>87</td>\n",
       "      <td>10</td>\n",
       "      <td>39</td>\n",
       "      <td>42</td>\n",
       "      <td>30</td>\n",
       "      <td>2</td>\n",
       "      <td>396</td>\n",
       "      <td>101</td>\n",
       "      <td>12</td>\n",
       "      <td>48</td>\n",
       "      <td>46</td>\n",
       "      <td>33</td>\n",
       "      <td>N</td>\n",
       "      <td>E</td>\n",
       "      <td>805</td>\n",
       "      <td>40</td>\n",
       "      <td>4</td>\n",
       "      <td>N</td>\n",
       "    </tr>\n",
       "  </tbody>\n",
       "</table>\n",
       "</div>"
      ],
      "text/plain": [
       "   AtBat  Hits  HmRun  Runs  RBI  Walks  Years  CAtBat  CHits  CHmRun  CRuns  \\\n",
       "0    293    66      1    30   29     14      1     293     66       1     30   \n",
       "1    315    81      7    24   38     39     14    3449    835      69    321   \n",
       "2    479   130     18    66   72     76      3    1624    457      63    224   \n",
       "3    496   141     20    65   78     37     11    5628   1575     225    828   \n",
       "4    321    87     10    39   42     30      2     396    101      12     48   \n",
       "\n",
       "   CRBI  CWalks League Division  PutOuts  Assists  Errors NewLeague  \n",
       "0    29      14      A        E      446       33      20         A  \n",
       "1   414     375      N        W      632       43      10         N  \n",
       "2   266     263      A        W      880       82      14         A  \n",
       "3   838     354      N        E      200       11       3         N  \n",
       "4    46      33      N        E      805       40       4         N  "
      ]
     },
     "execution_count": 10,
     "metadata": {},
     "output_type": "execute_result"
    }
   ],
   "source": [
    "X.head()"
   ]
  },
  {
   "cell_type": "markdown",
   "id": "7ddab8e3",
   "metadata": {},
   "source": [
    "### Categorical Data"
   ]
  },
  {
   "cell_type": "code",
   "execution_count": 11,
   "id": "2fba7de2",
   "metadata": {},
   "outputs": [
    {
     "data": {
      "text/plain": [
       "Index(['AtBat', 'Hits', 'HmRun', 'Runs', 'RBI', 'Walks', 'Years', 'CAtBat',\n",
       "       'CHits', 'CHmRun', 'CRuns', 'CRBI', 'CWalks', 'League', 'Division',\n",
       "       'PutOuts', 'Assists', 'Errors', 'NewLeague'],\n",
       "      dtype='object')"
      ]
     },
     "execution_count": 11,
     "metadata": {},
     "output_type": "execute_result"
    }
   ],
   "source": [
    "X.columns"
   ]
  },
  {
   "cell_type": "code",
   "execution_count": 12,
   "id": "f057ada9",
   "metadata": {},
   "outputs": [],
   "source": [
    "X=pd.get_dummies(dataset[['AtBat', 'Hits', 'HmRun', 'Runs', 'RBI', 'Walks', 'Years', 'CAtBat',\n",
    "       'CHits', 'CHmRun', 'CRuns', 'CRBI', 'CWalks', 'League', 'Division',\n",
    "       'PutOuts', 'Assists', 'Errors', 'NewLeague']], drop_first=True)"
   ]
  },
  {
   "cell_type": "code",
   "execution_count": 13,
   "id": "9d6fe7b7",
   "metadata": {},
   "outputs": [
    {
     "data": {
      "text/html": [
       "<div>\n",
       "<style scoped>\n",
       "    .dataframe tbody tr th:only-of-type {\n",
       "        vertical-align: middle;\n",
       "    }\n",
       "\n",
       "    .dataframe tbody tr th {\n",
       "        vertical-align: top;\n",
       "    }\n",
       "\n",
       "    .dataframe thead th {\n",
       "        text-align: right;\n",
       "    }\n",
       "</style>\n",
       "<table border=\"1\" class=\"dataframe\">\n",
       "  <thead>\n",
       "    <tr style=\"text-align: right;\">\n",
       "      <th></th>\n",
       "      <th>AtBat</th>\n",
       "      <th>Hits</th>\n",
       "      <th>HmRun</th>\n",
       "      <th>Runs</th>\n",
       "      <th>RBI</th>\n",
       "      <th>Walks</th>\n",
       "      <th>Years</th>\n",
       "      <th>CAtBat</th>\n",
       "      <th>CHits</th>\n",
       "      <th>CHmRun</th>\n",
       "      <th>CRuns</th>\n",
       "      <th>CRBI</th>\n",
       "      <th>CWalks</th>\n",
       "      <th>PutOuts</th>\n",
       "      <th>Assists</th>\n",
       "      <th>Errors</th>\n",
       "      <th>League_N</th>\n",
       "      <th>Division_W</th>\n",
       "      <th>NewLeague_N</th>\n",
       "    </tr>\n",
       "  </thead>\n",
       "  <tbody>\n",
       "    <tr>\n",
       "      <th>0</th>\n",
       "      <td>293</td>\n",
       "      <td>66</td>\n",
       "      <td>1</td>\n",
       "      <td>30</td>\n",
       "      <td>29</td>\n",
       "      <td>14</td>\n",
       "      <td>1</td>\n",
       "      <td>293</td>\n",
       "      <td>66</td>\n",
       "      <td>1</td>\n",
       "      <td>30</td>\n",
       "      <td>29</td>\n",
       "      <td>14</td>\n",
       "      <td>446</td>\n",
       "      <td>33</td>\n",
       "      <td>20</td>\n",
       "      <td>0</td>\n",
       "      <td>0</td>\n",
       "      <td>0</td>\n",
       "    </tr>\n",
       "    <tr>\n",
       "      <th>1</th>\n",
       "      <td>315</td>\n",
       "      <td>81</td>\n",
       "      <td>7</td>\n",
       "      <td>24</td>\n",
       "      <td>38</td>\n",
       "      <td>39</td>\n",
       "      <td>14</td>\n",
       "      <td>3449</td>\n",
       "      <td>835</td>\n",
       "      <td>69</td>\n",
       "      <td>321</td>\n",
       "      <td>414</td>\n",
       "      <td>375</td>\n",
       "      <td>632</td>\n",
       "      <td>43</td>\n",
       "      <td>10</td>\n",
       "      <td>1</td>\n",
       "      <td>1</td>\n",
       "      <td>1</td>\n",
       "    </tr>\n",
       "    <tr>\n",
       "      <th>2</th>\n",
       "      <td>479</td>\n",
       "      <td>130</td>\n",
       "      <td>18</td>\n",
       "      <td>66</td>\n",
       "      <td>72</td>\n",
       "      <td>76</td>\n",
       "      <td>3</td>\n",
       "      <td>1624</td>\n",
       "      <td>457</td>\n",
       "      <td>63</td>\n",
       "      <td>224</td>\n",
       "      <td>266</td>\n",
       "      <td>263</td>\n",
       "      <td>880</td>\n",
       "      <td>82</td>\n",
       "      <td>14</td>\n",
       "      <td>0</td>\n",
       "      <td>1</td>\n",
       "      <td>0</td>\n",
       "    </tr>\n",
       "    <tr>\n",
       "      <th>3</th>\n",
       "      <td>496</td>\n",
       "      <td>141</td>\n",
       "      <td>20</td>\n",
       "      <td>65</td>\n",
       "      <td>78</td>\n",
       "      <td>37</td>\n",
       "      <td>11</td>\n",
       "      <td>5628</td>\n",
       "      <td>1575</td>\n",
       "      <td>225</td>\n",
       "      <td>828</td>\n",
       "      <td>838</td>\n",
       "      <td>354</td>\n",
       "      <td>200</td>\n",
       "      <td>11</td>\n",
       "      <td>3</td>\n",
       "      <td>1</td>\n",
       "      <td>0</td>\n",
       "      <td>1</td>\n",
       "    </tr>\n",
       "    <tr>\n",
       "      <th>4</th>\n",
       "      <td>321</td>\n",
       "      <td>87</td>\n",
       "      <td>10</td>\n",
       "      <td>39</td>\n",
       "      <td>42</td>\n",
       "      <td>30</td>\n",
       "      <td>2</td>\n",
       "      <td>396</td>\n",
       "      <td>101</td>\n",
       "      <td>12</td>\n",
       "      <td>48</td>\n",
       "      <td>46</td>\n",
       "      <td>33</td>\n",
       "      <td>805</td>\n",
       "      <td>40</td>\n",
       "      <td>4</td>\n",
       "      <td>1</td>\n",
       "      <td>0</td>\n",
       "      <td>1</td>\n",
       "    </tr>\n",
       "  </tbody>\n",
       "</table>\n",
       "</div>"
      ],
      "text/plain": [
       "   AtBat  Hits  HmRun  Runs  RBI  Walks  Years  CAtBat  CHits  CHmRun  CRuns  \\\n",
       "0    293    66      1    30   29     14      1     293     66       1     30   \n",
       "1    315    81      7    24   38     39     14    3449    835      69    321   \n",
       "2    479   130     18    66   72     76      3    1624    457      63    224   \n",
       "3    496   141     20    65   78     37     11    5628   1575     225    828   \n",
       "4    321    87     10    39   42     30      2     396    101      12     48   \n",
       "\n",
       "   CRBI  CWalks  PutOuts  Assists  Errors  League_N  Division_W  NewLeague_N  \n",
       "0    29      14      446       33      20         0           0            0  \n",
       "1   414     375      632       43      10         1           1            1  \n",
       "2   266     263      880       82      14         0           1            0  \n",
       "3   838     354      200       11       3         1           0            1  \n",
       "4    46      33      805       40       4         1           0            1  "
      ]
     },
     "execution_count": 13,
     "metadata": {},
     "output_type": "execute_result"
    }
   ],
   "source": [
    "X.head()"
   ]
  },
  {
   "cell_type": "markdown",
   "id": "54f086e4",
   "metadata": {},
   "source": [
    "- League: A=0, N=1\n",
    "- Division:E=0, W=1\n",
    "- NewLeague: A=0, N=1"
   ]
  },
  {
   "cell_type": "markdown",
   "id": "71bf9481",
   "metadata": {},
   "source": [
    "## Experiment 1"
   ]
  },
  {
   "cell_type": "markdown",
   "id": "25e83545",
   "metadata": {},
   "source": [
    "### Split into Training,  Test, and Validation Set"
   ]
  },
  {
   "cell_type": "code",
   "execution_count": 14,
   "id": "f53b6134",
   "metadata": {},
   "outputs": [],
   "source": [
    "from sklearn.model_selection import train_test_split\n",
    "X_train, X_rest, y_train, y_rest=train_test_split(X,y, test_size=.2, random_state=42)"
   ]
  },
  {
   "cell_type": "code",
   "execution_count": 15,
   "id": "55292407",
   "metadata": {},
   "outputs": [],
   "source": [
    "X_test, X_val, y_test, y_val=train_test_split(X_rest, y_rest, test_size=.5, random_state=42)"
   ]
  },
  {
   "cell_type": "markdown",
   "id": "50879d89",
   "metadata": {},
   "source": [
    "### Training Multiple Linear Regression Model on Training Set"
   ]
  },
  {
   "cell_type": "code",
   "execution_count": 16,
   "id": "dc7067af",
   "metadata": {},
   "outputs": [
    {
     "data": {
      "text/plain": [
       "LinearRegression()"
      ]
     },
     "execution_count": 16,
     "metadata": {},
     "output_type": "execute_result"
    }
   ],
   "source": [
    "from sklearn.linear_model import LinearRegression\n",
    "regressor=LinearRegression()\n",
    "regressor.fit(X_train.values, y_train)"
   ]
  },
  {
   "cell_type": "markdown",
   "id": "230668d4",
   "metadata": {},
   "source": [
    "### Intercept and Coefficient"
   ]
  },
  {
   "cell_type": "code",
   "execution_count": 17,
   "id": "348a7ac5",
   "metadata": {},
   "outputs": [
    {
     "name": "stdout",
     "output_type": "stream",
     "text": [
      "Coefficients:  [[  -1.81935532    5.52041062    5.9259539    -0.91198313   -1.94452883\n",
      "     5.15358725   -8.03146046   -0.23922411    0.61753942   -0.12789951\n",
      "     0.87868529    0.87005762   -0.76129272    0.17958052    0.33298441\n",
      "    -3.26590447   37.4941037  -101.26076896  -24.56959811]]\n",
      "Intercept:  [382.75080043]\n"
     ]
    }
   ],
   "source": [
    "print(\"Coefficients: \", regressor.coef_)\n",
    "print(\"Intercept: \", regressor.intercept_)"
   ]
  },
  {
   "cell_type": "code",
   "execution_count": 18,
   "id": "aec306e6",
   "metadata": {},
   "outputs": [
    {
     "data": {
      "text/plain": [
       "Index(['AtBat', 'Hits', 'HmRun', 'Runs', 'RBI', 'Walks', 'Years', 'CAtBat',\n",
       "       'CHits', 'CHmRun', 'CRuns', 'CRBI', 'CWalks', 'PutOuts', 'Assists',\n",
       "       'Errors', 'League_N', 'Division_W', 'NewLeague_N'],\n",
       "      dtype='object')"
      ]
     },
     "execution_count": 18,
     "metadata": {},
     "output_type": "execute_result"
    }
   ],
   "source": [
    "X_train.columns"
   ]
  },
  {
   "cell_type": "markdown",
   "id": "3f313221",
   "metadata": {},
   "source": [
    "### Forumula\n",
    "#### Salary = 382.75 - 1.82(AtBat) + 5.52(Hits) + 5.93(HmRun) - 0.91(Runs) - 1.94(RBI) + 5.15(Walks) - 8.03(Years)  - 0.24 (CAtBat) + 0.62(CHits) - 0.13(CHmRun) + 0.88(CRuns) + 0.87(CRBI) - 0.76(CWalks) + 0.18(PutOuts) + 0.33(Assists) - 3.27(Errors) + 37.49(League_N) - 101.26(Division_W) -24.57(NewLeague_N)"
   ]
  },
  {
   "cell_type": "markdown",
   "id": "497bc40a",
   "metadata": {},
   "source": [
    "### Validation Set"
   ]
  },
  {
   "cell_type": "code",
   "execution_count": 19,
   "id": "21efd088",
   "metadata": {},
   "outputs": [
    {
     "data": {
      "text/plain": [
       "array([[ 428.86459193],\n",
       "       [ 589.45628156],\n",
       "       [ 358.87497951],\n",
       "       [1307.49912768],\n",
       "       [ 376.23295136],\n",
       "       [ 372.40359153],\n",
       "       [ 575.30165241],\n",
       "       [ 219.52472223],\n",
       "       [ 459.9325219 ],\n",
       "       [ 688.68995602],\n",
       "       [ 498.52244678],\n",
       "       [ 431.15197434],\n",
       "       [ 434.16793987],\n",
       "       [ 924.21291449],\n",
       "       [ 840.09972602],\n",
       "       [1092.393749  ],\n",
       "       [ 668.12069128],\n",
       "       [ 422.93979955],\n",
       "       [ 459.01596504],\n",
       "       [ 167.14238923],\n",
       "       [ 461.41639516],\n",
       "       [ 292.97233961],\n",
       "       [1131.50896978],\n",
       "       [1039.1567066 ],\n",
       "       [ 327.63240888],\n",
       "       [ 419.61057787],\n",
       "       [ 363.91869147],\n",
       "       [ 427.88282855],\n",
       "       [ 488.70324023],\n",
       "       [ 374.62651017],\n",
       "       [ 465.8878761 ],\n",
       "       [ 369.2973206 ],\n",
       "       [ 498.82362549]])"
      ]
     },
     "execution_count": 19,
     "metadata": {},
     "output_type": "execute_result"
    }
   ],
   "source": [
    "y_predval=regressor.predict(X_val.values)\n",
    "y_predval"
   ]
  },
  {
   "cell_type": "code",
   "execution_count": 20,
   "id": "bd1702c2",
   "metadata": {},
   "outputs": [],
   "source": [
    "y_validate=y_val.to_numpy()"
   ]
  },
  {
   "cell_type": "code",
   "execution_count": 21,
   "id": "8dba6107",
   "metadata": {},
   "outputs": [
    {
     "data": {
      "text/plain": [
       "array([[ 429.,  210.],\n",
       "       [ 589., 1940.],\n",
       "       [ 359.,  536.],\n",
       "       [1307.,  536.],\n",
       "       [ 376.,  362.],\n",
       "       [ 372.,   90.],\n",
       "       [ 575.,  500.],\n",
       "       [ 220.,  350.],\n",
       "       [ 460.,  535.],\n",
       "       [ 689., 1175.],\n",
       "       [ 499.,  550.],\n",
       "       [ 431.,  525.],\n",
       "       [ 434.,  536.],\n",
       "       [ 924., 1900.],\n",
       "       [ 840., 1670.],\n",
       "       [1092.,  536.],\n",
       "       [ 668., 1100.],\n",
       "       [ 423.,  325.],\n",
       "       [ 459.,  425.],\n",
       "       [ 167.,  175.],\n",
       "       [ 461.,  400.],\n",
       "       [ 293.,  190.],\n",
       "       [1132.,  536.],\n",
       "       [1039.,  775.],\n",
       "       [ 328.,  425.],\n",
       "       [ 420.,  750.],\n",
       "       [ 364.,  536.],\n",
       "       [ 428.,  536.],\n",
       "       [ 489.,  120.],\n",
       "       [ 375.,  145.],\n",
       "       [ 466.,  536.],\n",
       "       [ 369.,  305.],\n",
       "       [ 499.,  215.]])"
      ]
     },
     "execution_count": 21,
     "metadata": {},
     "output_type": "execute_result"
    }
   ],
   "source": [
    "np.hstack((y_predval, y_validate)).round()"
   ]
  },
  {
   "cell_type": "markdown",
   "id": "f0ef578c",
   "metadata": {},
   "source": [
    "### Predicting Test Set Results"
   ]
  },
  {
   "cell_type": "code",
   "execution_count": 22,
   "id": "736aba02",
   "metadata": {},
   "outputs": [],
   "source": [
    "y_pred=regressor.predict(X_test.values)"
   ]
  },
  {
   "cell_type": "markdown",
   "id": "2ff73f46",
   "metadata": {},
   "source": [
    "### RMSE and R Square"
   ]
  },
  {
   "cell_type": "code",
   "execution_count": 23,
   "id": "a301af1a",
   "metadata": {},
   "outputs": [
    {
     "name": "stdout",
     "output_type": "stream",
     "text": [
      "R-Square: 0.57\n",
      "MSE: 69533.13\n",
      "RMSE: 263.69\n"
     ]
    }
   ],
   "source": [
    "from sklearn.metrics import mean_squared_error, r2_score\n",
    "import math\n",
    "\n",
    "print(f\"R-Square: {r2_score(y_test, y_pred):.2f}\")\n",
    "print(f\"MSE: {mean_squared_error(y_test, y_pred):.2f}\")\n",
    "print(f\"RMSE: {math.sqrt(mean_squared_error(y_test, y_pred)):.2f}\")"
   ]
  },
  {
   "cell_type": "markdown",
   "id": "2bc9386d",
   "metadata": {},
   "source": [
    "## Experiment 2"
   ]
  },
  {
   "cell_type": "markdown",
   "id": "45b5873c",
   "metadata": {},
   "source": [
    "### Split into Training, Test, and Validation Set"
   ]
  },
  {
   "cell_type": "code",
   "execution_count": 24,
   "id": "3b309613",
   "metadata": {},
   "outputs": [],
   "source": [
    "from sklearn.model_selection import train_test_split\n",
    "X_train, X_rest, y_train, y_rest=train_test_split(X,y, test_size=.25, random_state=42)"
   ]
  },
  {
   "cell_type": "code",
   "execution_count": 25,
   "id": "d295d64d",
   "metadata": {},
   "outputs": [],
   "source": [
    "X_test, X_val, y_test, y_val=train_test_split(X_rest, y_rest, test_size=.5, random_state=42)"
   ]
  },
  {
   "cell_type": "markdown",
   "id": "3c110273",
   "metadata": {},
   "source": [
    "### Training Multiple Linear Regression Model on Training Set"
   ]
  },
  {
   "cell_type": "code",
   "execution_count": 26,
   "id": "33377fd8",
   "metadata": {},
   "outputs": [
    {
     "data": {
      "text/plain": [
       "LinearRegression()"
      ]
     },
     "execution_count": 26,
     "metadata": {},
     "output_type": "execute_result"
    }
   ],
   "source": [
    "from sklearn.linear_model import LinearRegression\n",
    "regressor=LinearRegression()\n",
    "regressor.fit(X_train.values, y_train)"
   ]
  },
  {
   "cell_type": "markdown",
   "id": "3fce4f02",
   "metadata": {},
   "source": [
    "### Intercept and Coefficient"
   ]
  },
  {
   "cell_type": "code",
   "execution_count": 27,
   "id": "fdaf3ab6",
   "metadata": {},
   "outputs": [
    {
     "name": "stdout",
     "output_type": "stream",
     "text": [
      "Coefficients:  [[-1.97278931e+00  5.50965638e+00  4.56350884e+00 -1.53784353e-01\n",
      "  -1.07410530e+00  4.73817158e+00 -9.38889437e+00 -1.97024272e-01\n",
      "   5.18632185e-01 -8.85905646e-03  9.35023604e-01  7.87422935e-01\n",
      "  -8.46369331e-01  2.09425743e-01  3.78291046e-01 -4.36859788e+00\n",
      "   3.12955634e+01 -1.15663793e+02 -1.90635765e+01]]\n",
      "Intercept:  [389.98307475]\n"
     ]
    }
   ],
   "source": [
    "print(\"Coefficients: \", regressor.coef_)\n",
    "print(\"Intercept: \", regressor.intercept_)"
   ]
  },
  {
   "cell_type": "markdown",
   "id": "60c105b7",
   "metadata": {},
   "source": [
    "### Validation Set"
   ]
  },
  {
   "cell_type": "code",
   "execution_count": 28,
   "id": "67df1b11",
   "metadata": {},
   "outputs": [
    {
     "data": {
      "text/plain": [
       "array([[ 718.6219712 ],\n",
       "       [ 355.01208252],\n",
       "       [ 386.47070897],\n",
       "       [ 478.36947849],\n",
       "       [ 593.06281058],\n",
       "       [ 940.21964634],\n",
       "       [ 830.41521622],\n",
       "       [ 869.88402923],\n",
       "       [1134.41680204],\n",
       "       [ 216.9843776 ],\n",
       "       [ 652.69942486],\n",
       "       [ 517.75369703],\n",
       "       [1341.39944924],\n",
       "       [ 316.52213789],\n",
       "       [ 372.30651383],\n",
       "       [1309.38558295],\n",
       "       [ 248.30132411],\n",
       "       [ 381.56738416],\n",
       "       [ 366.29159786],\n",
       "       [ 458.6329991 ],\n",
       "       [ 449.04526662],\n",
       "       [ 447.3580831 ],\n",
       "       [ 391.1349301 ],\n",
       "       [ 371.95473488],\n",
       "       [ 856.61891859],\n",
       "       [ 493.0180174 ],\n",
       "       [ 446.79425918],\n",
       "       [ 582.49765091],\n",
       "       [ 587.46954961],\n",
       "       [ 345.63958852],\n",
       "       [ 495.87986297],\n",
       "       [ 372.4127246 ],\n",
       "       [ 618.94759157],\n",
       "       [ 363.32401744],\n",
       "       [ 416.2897056 ],\n",
       "       [ 445.15502929],\n",
       "       [ 196.68675386],\n",
       "       [1103.03459859],\n",
       "       [ 376.03349227],\n",
       "       [ 908.69618007],\n",
       "       [ 241.67622305]])"
      ]
     },
     "execution_count": 28,
     "metadata": {},
     "output_type": "execute_result"
    }
   ],
   "source": [
    "y_predval=regressor.predict(X_val.values)\n",
    "y_predval"
   ]
  },
  {
   "cell_type": "code",
   "execution_count": 29,
   "id": "5d94dba3",
   "metadata": {},
   "outputs": [],
   "source": [
    "y_validate=y_val.to_numpy()"
   ]
  },
  {
   "cell_type": "code",
   "execution_count": 30,
   "id": "8ce08e30",
   "metadata": {},
   "outputs": [
    {
     "data": {
      "text/plain": [
       "array([[ 719., 1175.],\n",
       "       [ 355.,  536.],\n",
       "       [ 386.,  215.],\n",
       "       [ 478.,  536.],\n",
       "       [ 593.,  765.],\n",
       "       [ 940.,  800.],\n",
       "       [ 830.,  588.],\n",
       "       [ 870.,  535.],\n",
       "       [1134.,  536.],\n",
       "       [ 217.,  350.],\n",
       "       [ 653.,  850.],\n",
       "       [ 518.,  550.],\n",
       "       [1341.,  777.],\n",
       "       [ 317.,  195.],\n",
       "       [ 372.,   86.],\n",
       "       [1309.,  536.],\n",
       "       [ 248.,  536.],\n",
       "       [ 382.,   90.],\n",
       "       [ 366.,  536.],\n",
       "       [ 459.,  425.],\n",
       "       [ 449.,  525.],\n",
       "       [ 447.,  535.],\n",
       "       [ 391.,  362.],\n",
       "       [ 372.,  536.],\n",
       "       [ 857., 1670.],\n",
       "       [ 493.,  215.],\n",
       "       [ 447.,  278.],\n",
       "       [ 582.,  350.],\n",
       "       [ 587.,  500.],\n",
       "       [ 346.,  250.],\n",
       "       [ 496.,  120.],\n",
       "       [ 372.,  140.],\n",
       "       [ 619.,  536.],\n",
       "       [ 363.,  145.],\n",
       "       [ 416.,  210.],\n",
       "       [ 445.,  750.],\n",
       "       [ 197.,  175.],\n",
       "       [1103.,  536.],\n",
       "       [ 376.,  305.],\n",
       "       [ 909., 1900.],\n",
       "       [ 242.,  385.]])"
      ]
     },
     "execution_count": 30,
     "metadata": {},
     "output_type": "execute_result"
    }
   ],
   "source": [
    "np.hstack((y_predval, y_validate)).round()"
   ]
  },
  {
   "cell_type": "markdown",
   "id": "9fdee0fd",
   "metadata": {},
   "source": [
    "### Predicting Test Set Results"
   ]
  },
  {
   "cell_type": "code",
   "execution_count": 31,
   "id": "95fde952",
   "metadata": {},
   "outputs": [],
   "source": [
    "y_pred=regressor.predict(X_test.values)"
   ]
  },
  {
   "cell_type": "markdown",
   "id": "be219656",
   "metadata": {},
   "source": [
    "### RMSE and R Square"
   ]
  },
  {
   "cell_type": "code",
   "execution_count": 32,
   "id": "8b5cce87",
   "metadata": {},
   "outputs": [
    {
     "name": "stdout",
     "output_type": "stream",
     "text": [
      "R-Square: 0.47\n",
      "MSE: 119291.23\n",
      "RMSE: 345.39\n"
     ]
    }
   ],
   "source": [
    "from sklearn.metrics import mean_squared_error, r2_score\n",
    "import math\n",
    "\n",
    "print(f\"R-Square: {r2_score(y_test, y_pred):.2f}\")\n",
    "print(f\"MSE: {mean_squared_error(y_test, y_pred):.2f}\")\n",
    "print(f\"RMSE: {math.sqrt(mean_squared_error(y_test, y_pred)):.2f}\")"
   ]
  },
  {
   "cell_type": "markdown",
   "id": "8af8f8e3",
   "metadata": {},
   "source": [
    "## Experiment 3"
   ]
  },
  {
   "cell_type": "markdown",
   "id": "9eb7052e",
   "metadata": {},
   "source": [
    "### Split into Training,  Test, and Validation Set"
   ]
  },
  {
   "cell_type": "code",
   "execution_count": 33,
   "id": "03c40afb",
   "metadata": {},
   "outputs": [],
   "source": [
    "from sklearn.model_selection import train_test_split\n",
    "X_train, X_rest, y_train, y_rest=train_test_split(X,y, test_size=.3, random_state=42)"
   ]
  },
  {
   "cell_type": "code",
   "execution_count": 34,
   "id": "667321ee",
   "metadata": {},
   "outputs": [],
   "source": [
    "X_test, X_val, y_test, y_val=train_test_split(X_rest, y_rest, test_size=.5, random_state=42)"
   ]
  },
  {
   "cell_type": "markdown",
   "id": "edac2cb9",
   "metadata": {},
   "source": [
    "### Training Multiple Linear Regression Model on Training Set"
   ]
  },
  {
   "cell_type": "code",
   "execution_count": 35,
   "id": "76399871",
   "metadata": {},
   "outputs": [
    {
     "data": {
      "text/plain": [
       "LinearRegression()"
      ]
     },
     "execution_count": 35,
     "metadata": {},
     "output_type": "execute_result"
    }
   ],
   "source": [
    "from sklearn.linear_model import LinearRegression\n",
    "regressor=LinearRegression()\n",
    "regressor.fit(X_train.values, y_train)"
   ]
  },
  {
   "cell_type": "markdown",
   "id": "babc21e0",
   "metadata": {},
   "source": [
    "### Intercept and Coefficient"
   ]
  },
  {
   "cell_type": "code",
   "execution_count": 36,
   "id": "91f6ad14",
   "metadata": {},
   "outputs": [
    {
     "name": "stdout",
     "output_type": "stream",
     "text": [
      "Coefficients:  [[-1.65465961e+00  4.72030184e+00  5.17004198e+00 -8.18014534e-02\n",
      "  -1.38768696e+00  4.65178243e+00 -6.70664465e+00 -1.80571043e-01\n",
      "   3.83229836e-01 -5.05713807e-01  9.62772642e-01  8.32976623e-01\n",
      "  -7.12574619e-01  2.18510347e-01  2.61261558e-01 -3.60862565e+00\n",
      "   5.61143024e+01 -1.09669669e+02 -3.10845498e+01]]\n",
      "Intercept:  [358.54809944]\n"
     ]
    }
   ],
   "source": [
    "print(\"Coefficients: \", regressor.coef_)\n",
    "print(\"Intercept: \", regressor.intercept_)"
   ]
  },
  {
   "cell_type": "markdown",
   "id": "501bde47",
   "metadata": {},
   "source": [
    "### Validation Set"
   ]
  },
  {
   "cell_type": "code",
   "execution_count": 37,
   "id": "092db17c",
   "metadata": {},
   "outputs": [
    {
     "data": {
      "text/plain": [
       "array([[ 523.67752458],\n",
       "       [ 461.05675329],\n",
       "       [ 603.45201973],\n",
       "       [ 626.4236939 ],\n",
       "       [ 147.2116474 ],\n",
       "       [ 539.27570152],\n",
       "       [ 458.52138198],\n",
       "       [ 445.20666528],\n",
       "       [ 774.95180229],\n",
       "       [ 345.10809637],\n",
       "       [ 481.73511775],\n",
       "       [ 708.85835549],\n",
       "       [ 372.89935793],\n",
       "       [ 499.57026609],\n",
       "       [ 381.94845464],\n",
       "       [1086.7279634 ],\n",
       "       [ 379.57866567],\n",
       "       [ 233.08775998],\n",
       "       [ 389.4033093 ],\n",
       "       [ 260.98512464],\n",
       "       [ 585.2057331 ],\n",
       "       [ 898.00565214],\n",
       "       [ 371.27588414],\n",
       "       [ 241.8864518 ],\n",
       "       [ 394.20053542],\n",
       "       [ 514.37945827],\n",
       "       [ 451.7326715 ],\n",
       "       [ 368.3638691 ],\n",
       "       [ 381.10055564],\n",
       "       [ 898.78410741],\n",
       "       [ 297.50059094],\n",
       "       [ 690.09511254],\n",
       "       [ 864.57389005],\n",
       "       [1570.61782776],\n",
       "       [ 373.10441532],\n",
       "       [1215.27603177],\n",
       "       [1301.06665548],\n",
       "       [ 326.36924972],\n",
       "       [ 565.4465428 ],\n",
       "       [ 670.56717358],\n",
       "       [ 910.57854802],\n",
       "       [ 592.78465602],\n",
       "       [ 351.60685809],\n",
       "       [ 433.10762696],\n",
       "       [ 430.6545912 ],\n",
       "       [ 225.54676393],\n",
       "       [1026.26400182],\n",
       "       [ 449.9838574 ],\n",
       "       [ 895.3249124 ]])"
      ]
     },
     "execution_count": 37,
     "metadata": {},
     "output_type": "execute_result"
    }
   ],
   "source": [
    "y_predval=regressor.predict(X_val.values)\n",
    "y_predval"
   ]
  },
  {
   "cell_type": "code",
   "execution_count": 38,
   "id": "9cbb78ca",
   "metadata": {},
   "outputs": [],
   "source": [
    "y_validate=y_val.to_numpy()"
   ]
  },
  {
   "cell_type": "code",
   "execution_count": 39,
   "id": "44703aaf",
   "metadata": {},
   "outputs": [
    {
     "data": {
      "text/plain": [
       "array([[ 524.,  215.],\n",
       "       [ 461.,  425.],\n",
       "       [ 603.,  560.],\n",
       "       [ 626.,  765.],\n",
       "       [ 147.,  110.],\n",
       "       [ 539.,  210.],\n",
       "       [ 459.,  535.],\n",
       "       [ 445.,  278.],\n",
       "       [ 775.,  588.],\n",
       "       [ 345.,  536.],\n",
       "       [ 482.,  536.],\n",
       "       [ 709.,  215.],\n",
       "       [ 373.,  536.],\n",
       "       [ 500.,  536.],\n",
       "       [ 382.,  305.],\n",
       "       [1087.,  536.],\n",
       "       [ 380.,  215.],\n",
       "       [ 233.,  350.],\n",
       "       [ 389.,  145.],\n",
       "       [ 261.,  536.],\n",
       "       [ 585.,  850.],\n",
       "       [ 898.,  535.],\n",
       "       [ 371.,   86.],\n",
       "       [ 242.,  342.],\n",
       "       [ 394.,  250.],\n",
       "       [ 514.,  550.],\n",
       "       [ 452.,  525.],\n",
       "       [ 368.,  140.],\n",
       "       [ 381.,  432.],\n",
       "       [ 899., 1310.],\n",
       "       [ 298.,  300.],\n",
       "       [ 690., 1175.],\n",
       "       [ 865.,  800.],\n",
       "       [1571., 2412.],\n",
       "       [ 373.,  362.],\n",
       "       [1215.,  536.],\n",
       "       [1301., 1500.],\n",
       "       [ 326.,  195.],\n",
       "       [ 565.,  500.],\n",
       "       [ 671.,  430.],\n",
       "       [ 911., 1670.],\n",
       "       [ 593.,  536.],\n",
       "       [ 352.,  536.],\n",
       "       [ 433.,  536.],\n",
       "       [ 431.,  750.],\n",
       "       [ 226.,  110.],\n",
       "       [1026.,  536.],\n",
       "       [ 450.,  210.],\n",
       "       [ 895., 1900.]])"
      ]
     },
     "execution_count": 39,
     "metadata": {},
     "output_type": "execute_result"
    }
   ],
   "source": [
    "np.hstack((y_predval, y_validate)).round()"
   ]
  },
  {
   "cell_type": "markdown",
   "id": "a3904e1d",
   "metadata": {},
   "source": [
    "### Predicting Test Set Results"
   ]
  },
  {
   "cell_type": "code",
   "execution_count": 40,
   "id": "c3aec908",
   "metadata": {},
   "outputs": [],
   "source": [
    "y_pred=regressor.predict(X_test.values)"
   ]
  },
  {
   "cell_type": "markdown",
   "id": "51a9f991",
   "metadata": {},
   "source": [
    "### RMSE and R Square"
   ]
  },
  {
   "cell_type": "code",
   "execution_count": 41,
   "id": "0311b554",
   "metadata": {},
   "outputs": [
    {
     "name": "stdout",
     "output_type": "stream",
     "text": [
      "R-Square: 0.45\n",
      "MSE: 113281.15\n",
      "RMSE: 336.57\n"
     ]
    }
   ],
   "source": [
    "from sklearn.metrics import mean_squared_error, r2_score\n",
    "import math\n",
    "\n",
    "print(f\"R-Square: {r2_score(y_test, y_pred):.2f}\")\n",
    "print(f\"MSE: {mean_squared_error(y_test, y_pred):.2f}\")\n",
    "print(f\"RMSE: {math.sqrt(mean_squared_error(y_test, y_pred)):.2f}\")"
   ]
  },
  {
   "cell_type": "code",
   "execution_count": null,
   "id": "e32e85d3",
   "metadata": {},
   "outputs": [],
   "source": []
  }
 ],
 "metadata": {
  "kernelspec": {
   "display_name": "Python 3 (ipykernel)",
   "language": "python",
   "name": "python3"
  },
  "language_info": {
   "codemirror_mode": {
    "name": "ipython",
    "version": 3
   },
   "file_extension": ".py",
   "mimetype": "text/x-python",
   "name": "python",
   "nbconvert_exporter": "python",
   "pygments_lexer": "ipython3",
   "version": "3.9.12"
  }
 },
 "nbformat": 4,
 "nbformat_minor": 5
}
