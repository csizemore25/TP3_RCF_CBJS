{
 "cells": [
  {
   "cell_type": "markdown",
   "id": "0e2d4f56",
   "metadata": {},
   "source": [
    "# Team Project 3\n",
    "## Caitlin Sizemore and Ryan Fox\n",
    "### DS 160-01 SP 2023"
   ]
  },
  {
   "cell_type": "markdown",
   "id": "a298a9b8",
   "metadata": {},
   "source": [
    "### Importing Libraries and Dataset"
   ]
  },
  {
   "cell_type": "code",
   "execution_count": 1,
   "id": "db4ef75a",
   "metadata": {},
   "outputs": [],
   "source": [
    "import numpy as np\n",
    "import matplotlib.pyplot as plt\n",
    "import seaborn as sns\n",
    "import pandas as pd"
   ]
  },
  {
   "cell_type": "code",
   "execution_count": 2,
   "id": "7ec966c6",
   "metadata": {},
   "outputs": [],
   "source": [
    "dataset=pd.read_csv(\"Hitters.csv\")"
   ]
  },
  {
   "cell_type": "code",
   "execution_count": 3,
   "id": "dd3df1ba",
   "metadata": {
    "scrolled": true
   },
   "outputs": [
    {
     "data": {
      "text/html": [
       "<div>\n",
       "<style scoped>\n",
       "    .dataframe tbody tr th:only-of-type {\n",
       "        vertical-align: middle;\n",
       "    }\n",
       "\n",
       "    .dataframe tbody tr th {\n",
       "        vertical-align: top;\n",
       "    }\n",
       "\n",
       "    .dataframe thead th {\n",
       "        text-align: right;\n",
       "    }\n",
       "</style>\n",
       "<table border=\"1\" class=\"dataframe\">\n",
       "  <thead>\n",
       "    <tr style=\"text-align: right;\">\n",
       "      <th></th>\n",
       "      <th>AtBat</th>\n",
       "      <th>Hits</th>\n",
       "      <th>HmRun</th>\n",
       "      <th>Runs</th>\n",
       "      <th>RBI</th>\n",
       "      <th>Walks</th>\n",
       "      <th>Years</th>\n",
       "      <th>CAtBat</th>\n",
       "      <th>CHits</th>\n",
       "      <th>CHmRun</th>\n",
       "      <th>CRuns</th>\n",
       "      <th>CRBI</th>\n",
       "      <th>CWalks</th>\n",
       "      <th>League</th>\n",
       "      <th>Division</th>\n",
       "      <th>PutOuts</th>\n",
       "      <th>Assists</th>\n",
       "      <th>Errors</th>\n",
       "      <th>Salary</th>\n",
       "      <th>NewLeague</th>\n",
       "    </tr>\n",
       "  </thead>\n",
       "  <tbody>\n",
       "    <tr>\n",
       "      <th>0</th>\n",
       "      <td>293</td>\n",
       "      <td>66</td>\n",
       "      <td>1</td>\n",
       "      <td>30</td>\n",
       "      <td>29</td>\n",
       "      <td>14</td>\n",
       "      <td>1</td>\n",
       "      <td>293</td>\n",
       "      <td>66</td>\n",
       "      <td>1</td>\n",
       "      <td>30</td>\n",
       "      <td>29</td>\n",
       "      <td>14</td>\n",
       "      <td>A</td>\n",
       "      <td>E</td>\n",
       "      <td>446</td>\n",
       "      <td>33</td>\n",
       "      <td>20</td>\n",
       "      <td>NaN</td>\n",
       "      <td>A</td>\n",
       "    </tr>\n",
       "    <tr>\n",
       "      <th>1</th>\n",
       "      <td>315</td>\n",
       "      <td>81</td>\n",
       "      <td>7</td>\n",
       "      <td>24</td>\n",
       "      <td>38</td>\n",
       "      <td>39</td>\n",
       "      <td>14</td>\n",
       "      <td>3449</td>\n",
       "      <td>835</td>\n",
       "      <td>69</td>\n",
       "      <td>321</td>\n",
       "      <td>414</td>\n",
       "      <td>375</td>\n",
       "      <td>N</td>\n",
       "      <td>W</td>\n",
       "      <td>632</td>\n",
       "      <td>43</td>\n",
       "      <td>10</td>\n",
       "      <td>475.0</td>\n",
       "      <td>N</td>\n",
       "    </tr>\n",
       "    <tr>\n",
       "      <th>2</th>\n",
       "      <td>479</td>\n",
       "      <td>130</td>\n",
       "      <td>18</td>\n",
       "      <td>66</td>\n",
       "      <td>72</td>\n",
       "      <td>76</td>\n",
       "      <td>3</td>\n",
       "      <td>1624</td>\n",
       "      <td>457</td>\n",
       "      <td>63</td>\n",
       "      <td>224</td>\n",
       "      <td>266</td>\n",
       "      <td>263</td>\n",
       "      <td>A</td>\n",
       "      <td>W</td>\n",
       "      <td>880</td>\n",
       "      <td>82</td>\n",
       "      <td>14</td>\n",
       "      <td>480.0</td>\n",
       "      <td>A</td>\n",
       "    </tr>\n",
       "    <tr>\n",
       "      <th>3</th>\n",
       "      <td>496</td>\n",
       "      <td>141</td>\n",
       "      <td>20</td>\n",
       "      <td>65</td>\n",
       "      <td>78</td>\n",
       "      <td>37</td>\n",
       "      <td>11</td>\n",
       "      <td>5628</td>\n",
       "      <td>1575</td>\n",
       "      <td>225</td>\n",
       "      <td>828</td>\n",
       "      <td>838</td>\n",
       "      <td>354</td>\n",
       "      <td>N</td>\n",
       "      <td>E</td>\n",
       "      <td>200</td>\n",
       "      <td>11</td>\n",
       "      <td>3</td>\n",
       "      <td>500.0</td>\n",
       "      <td>N</td>\n",
       "    </tr>\n",
       "    <tr>\n",
       "      <th>4</th>\n",
       "      <td>321</td>\n",
       "      <td>87</td>\n",
       "      <td>10</td>\n",
       "      <td>39</td>\n",
       "      <td>42</td>\n",
       "      <td>30</td>\n",
       "      <td>2</td>\n",
       "      <td>396</td>\n",
       "      <td>101</td>\n",
       "      <td>12</td>\n",
       "      <td>48</td>\n",
       "      <td>46</td>\n",
       "      <td>33</td>\n",
       "      <td>N</td>\n",
       "      <td>E</td>\n",
       "      <td>805</td>\n",
       "      <td>40</td>\n",
       "      <td>4</td>\n",
       "      <td>91.5</td>\n",
       "      <td>N</td>\n",
       "    </tr>\n",
       "  </tbody>\n",
       "</table>\n",
       "</div>"
      ],
      "text/plain": [
       "   AtBat  Hits  HmRun  Runs  RBI  Walks  Years  CAtBat  CHits  CHmRun  CRuns  \\\n",
       "0    293    66      1    30   29     14      1     293     66       1     30   \n",
       "1    315    81      7    24   38     39     14    3449    835      69    321   \n",
       "2    479   130     18    66   72     76      3    1624    457      63    224   \n",
       "3    496   141     20    65   78     37     11    5628   1575     225    828   \n",
       "4    321    87     10    39   42     30      2     396    101      12     48   \n",
       "\n",
       "   CRBI  CWalks League Division  PutOuts  Assists  Errors  Salary NewLeague  \n",
       "0    29      14      A        E      446       33      20     NaN         A  \n",
       "1   414     375      N        W      632       43      10   475.0         N  \n",
       "2   266     263      A        W      880       82      14   480.0         A  \n",
       "3   838     354      N        E      200       11       3   500.0         N  \n",
       "4    46      33      N        E      805       40       4    91.5         N  "
      ]
     },
     "execution_count": 3,
     "metadata": {},
     "output_type": "execute_result"
    }
   ],
   "source": [
    "dataset.head()"
   ]
  },
  {
   "cell_type": "markdown",
   "id": "e9b77bef",
   "metadata": {},
   "source": [
    "### Missing Values"
   ]
  },
  {
   "cell_type": "code",
   "execution_count": 4,
   "id": "2587df55",
   "metadata": {},
   "outputs": [
    {
     "data": {
      "text/plain": [
       "AtBat         0\n",
       "Hits          0\n",
       "HmRun         0\n",
       "Runs          0\n",
       "RBI           0\n",
       "Walks         0\n",
       "Years         0\n",
       "CAtBat        0\n",
       "CHits         0\n",
       "CHmRun        0\n",
       "CRuns         0\n",
       "CRBI          0\n",
       "CWalks        0\n",
       "League        0\n",
       "Division      0\n",
       "PutOuts       0\n",
       "Assists       0\n",
       "Errors        0\n",
       "Salary       59\n",
       "NewLeague     0\n",
       "dtype: int64"
      ]
     },
     "execution_count": 4,
     "metadata": {},
     "output_type": "execute_result"
    }
   ],
   "source": [
    "dataset.isnull().sum()"
   ]
  },
  {
   "cell_type": "code",
   "execution_count": 5,
   "id": "88837141",
   "metadata": {},
   "outputs": [
    {
     "data": {
      "text/plain": [
       "<AxesSubplot:xlabel='Salary', ylabel='Count'>"
      ]
     },
     "execution_count": 5,
     "metadata": {},
     "output_type": "execute_result"
    },
    {
     "data": {
      "image/png": "[encoded data removed]",
      "text/plain": [
       "<Figure size 432x288 with 1 Axes>"
      ]
     },
     "metadata": {
      "needs_background": "light"
     },
     "output_type": "display_data"
    }
   ],
   "source": [
    "sns.histplot(dataset.Salary)"
   ]
  },
  {
   "cell_type": "code",
   "execution_count": 6,
   "id": "28e7dce4",
   "metadata": {},
   "outputs": [
    {
     "name": "stdout",
     "output_type": "stream",
     "text": [
      "Median Salary: 425.0 in thousands\n"
     ]
    }
   ],
   "source": [
    "sal=dataset['Salary'].median()\n",
    "print(f\"Median Salary: {sal} in thousands\")"
   ]
  },
  {
   "cell_type": "code",
   "execution_count": 7,
   "id": "89ecf28b",
   "metadata": {},
   "outputs": [],
   "source": [
    "dataset['Salary'].fillna(sal, inplace=True)"
   ]
  },
  {
   "cell_type": "markdown",
   "id": "6c73f38c",
   "metadata": {},
   "source": [
    "### Split into Independent and Dependent"
   ]
  },
  {
   "cell_type": "code",
   "execution_count": 8,
   "id": "3fb2a7e7",
   "metadata": {},
   "outputs": [
    {
     "name": "stdout",
     "output_type": "stream",
     "text": [
      "<class 'pandas.core.frame.DataFrame'>\n",
      "RangeIndex: 322 entries, 0 to 321\n",
      "Data columns (total 20 columns):\n",
      " #   Column     Non-Null Count  Dtype  \n",
      "---  ------     --------------  -----  \n",
      " 0   AtBat      322 non-null    int64  \n",
      " 1   Hits       322 non-null    int64  \n",
      " 2   HmRun      322 non-null    int64  \n",
      " 3   Runs       322 non-null    int64  \n",
      " 4   RBI        322 non-null    int64  \n",
      " 5   Walks      322 non-null    int64  \n",
      " 6   Years      322 non-null    int64  \n",
      " 7   CAtBat     322 non-null    int64  \n",
      " 8   CHits      322 non-null    int64  \n",
      " 9   CHmRun     322 non-null    int64  \n",
      " 10  CRuns      322 non-null    int64  \n",
      " 11  CRBI       322 non-null    int64  \n",
      " 12  CWalks     322 non-null    int64  \n",
      " 13  League     322 non-null    object \n",
      " 14  Division   322 non-null    object \n",
      " 15  PutOuts    322 non-null    int64  \n",
      " 16  Assists    322 non-null    int64  \n",
      " 17  Errors     322 non-null    int64  \n",
      " 18  Salary     322 non-null    float64\n",
      " 19  NewLeague  322 non-null    object \n",
      "dtypes: float64(1), int64(16), object(3)\n",
      "memory usage: 50.4+ KB\n"
     ]
    }
   ],
   "source": [
    "dataset.info()"
   ]
  },
  {
   "cell_type": "code",
   "execution_count": 9,
   "id": "fcd36b9b",
   "metadata": {},
   "outputs": [],
   "source": [
    "X=dataset.drop(\"Salary\", axis=1)\n",
    "y=dataset[['Salary']]"
   ]
  },
  {
   "cell_type": "code",
   "execution_count": 10,
   "id": "3662c671",
   "metadata": {},
   "outputs": [
    {
     "data": {
      "text/html": [
       "<div>\n",
       "<style scoped>\n",
       "    .dataframe tbody tr th:only-of-type {\n",
       "        vertical-align: middle;\n",
       "    }\n",
       "\n",
       "    .dataframe tbody tr th {\n",
       "        vertical-align: top;\n",
       "    }\n",
       "\n",
       "    .dataframe thead th {\n",
       "        text-align: right;\n",
       "    }\n",
       "</style>\n",
       "<table border=\"1\" class=\"dataframe\">\n",
       "  <thead>\n",
       "    <tr style=\"text-align: right;\">\n",
       "      <th></th>\n",
       "      <th>AtBat</th>\n",
       "      <th>Hits</th>\n",
       "      <th>HmRun</th>\n",
       "      <th>Runs</th>\n",
       "      <th>RBI</th>\n",
       "      <th>Walks</th>\n",
       "      <th>Years</th>\n",
       "      <th>CAtBat</th>\n",
       "      <th>CHits</th>\n",
       "      <th>CHmRun</th>\n",
       "      <th>CRuns</th>\n",
       "      <th>CRBI</th>\n",
       "      <th>CWalks</th>\n",
       "      <th>League</th>\n",
       "      <th>Division</th>\n",
       "      <th>PutOuts</th>\n",
       "      <th>Assists</th>\n",
       "      <th>Errors</th>\n",
       "      <th>NewLeague</th>\n",
       "    </tr>\n",
       "  </thead>\n",
       "  <tbody>\n",
       "    <tr>\n",
       "      <th>0</th>\n",
       "      <td>293</td>\n",
       "      <td>66</td>\n",
       "      <td>1</td>\n",
       "      <td>30</td>\n",
       "      <td>29</td>\n",
       "      <td>14</td>\n",
       "      <td>1</td>\n",
       "      <td>293</td>\n",
       "      <td>66</td>\n",
       "      <td>1</td>\n",
       "      <td>30</td>\n",
       "      <td>29</td>\n",
       "      <td>14</td>\n",
       "      <td>A</td>\n",
       "      <td>E</td>\n",
       "      <td>446</td>\n",
       "      <td>33</td>\n",
       "      <td>20</td>\n",
       "      <td>A</td>\n",
       "    </tr>\n",
       "    <tr>\n",
       "      <th>1</th>\n",
       "      <td>315</td>\n",
       "      <td>81</td>\n",
       "      <td>7</td>\n",
       "      <td>24</td>\n",
       "      <td>38</td>\n",
       "      <td>39</td>\n",
       "      <td>14</td>\n",
       "      <td>3449</td>\n",
       "      <td>835</td>\n",
       "      <td>69</td>\n",
       "      <td>321</td>\n",
       "      <td>414</td>\n",
       "      <td>375</td>\n",
       "      <td>N</td>\n",
       "      <td>W</td>\n",
       "      <td>632</td>\n",
       "      <td>43</td>\n",
       "      <td>10</td>\n",
       "      <td>N</td>\n",
       "    </tr>\n",
       "    <tr>\n",
       "      <th>2</th>\n",
       "      <td>479</td>\n",
       "      <td>130</td>\n",
       "      <td>18</td>\n",
       "      <td>66</td>\n",
       "      <td>72</td>\n",
       "      <td>76</td>\n",
       "      <td>3</td>\n",
       "      <td>1624</td>\n",
       "      <td>457</td>\n",
       "      <td>63</td>\n",
       "      <td>224</td>\n",
       "      <td>266</td>\n",
       "      <td>263</td>\n",
       "      <td>A</td>\n",
       "      <td>W</td>\n",
       "      <td>880</td>\n",
       "      <td>82</td>\n",
       "      <td>14</td>\n",
       "      <td>A</td>\n",
       "    </tr>\n",
       "    <tr>\n",
       "      <th>3</th>\n",
       "      <td>496</td>\n",
       "      <td>141</td>\n",
       "      <td>20</td>\n",
       "      <td>65</td>\n",
       "      <td>78</td>\n",
       "      <td>37</td>\n",
       "      <td>11</td>\n",
       "      <td>5628</td>\n",
       "      <td>1575</td>\n",
       "      <td>225</td>\n",
       "      <td>828</td>\n",
       "      <td>838</td>\n",
       "      <td>354</td>\n",
       "      <td>N</td>\n",
       "      <td>E</td>\n",
       "      <td>200</td>\n",
       "      <td>11</td>\n",
       "      <td>3</td>\n",
       "      <td>N</td>\n",
       "    </tr>\n",
       "    <tr>\n",
       "      <th>4</th>\n",
       "      <td>321</td>\n",
       "      <td>87</td>\n",
       "      <td>10</td>\n",
       "      <td>39</td>\n",
       "      <td>42</td>\n",
       "      <td>30</td>\n",
       "      <td>2</td>\n",
       "      <td>396</td>\n",
       "      <td>101</td>\n",
       "      <td>12</td>\n",
       "      <td>48</td>\n",
       "      <td>46</td>\n",
       "      <td>33</td>\n",
       "      <td>N</td>\n",
       "      <td>E</td>\n",
       "      <td>805</td>\n",
       "      <td>40</td>\n",
       "      <td>4</td>\n",
       "      <td>N</td>\n",
       "    </tr>\n",
       "  </tbody>\n",
       "</table>\n",
       "</div>"
      ],
      "text/plain": [
       "   AtBat  Hits  HmRun  Runs  RBI  Walks  Years  CAtBat  CHits  CHmRun  CRuns  \\\n",
       "0    293    66      1    30   29     14      1     293     66       1     30   \n",
       "1    315    81      7    24   38     39     14    3449    835      69    321   \n",
       "2    479   130     18    66   72     76      3    1624    457      63    224   \n",
       "3    496   141     20    65   78     37     11    5628   1575     225    828   \n",
       "4    321    87     10    39   42     30      2     396    101      12     48   \n",
       "\n",
       "   CRBI  CWalks League Division  PutOuts  Assists  Errors NewLeague  \n",
       "0    29      14      A        E      446       33      20         A  \n",
       "1   414     375      N        W      632       43      10         N  \n",
       "2   266     263      A        W      880       82      14         A  \n",
       "3   838     354      N        E      200       11       3         N  \n",
       "4    46      33      N        E      805       40       4         N  "
      ]
     },
     "execution_count": 10,
     "metadata": {},
     "output_type": "execute_result"
    }
   ],
   "source": [
    "X.head()"
   ]
  },
  {
   "cell_type": "markdown",
   "id": "66b000fa",
   "metadata": {},
   "source": [
    "### Categorical Data"
   ]
  },
  {
   "cell_type": "code",
   "execution_count": 11,
   "id": "4fd3e43d",
   "metadata": {},
   "outputs": [
    {
     "data": {
      "text/plain": [
       "Index(['AtBat', 'Hits', 'HmRun', 'Runs', 'RBI', 'Walks', 'Years', 'CAtBat',\n",
       "       'CHits', 'CHmRun', 'CRuns', 'CRBI', 'CWalks', 'League', 'Division',\n",
       "       'PutOuts', 'Assists', 'Errors', 'NewLeague'],\n",
       "      dtype='object')"
      ]
     },
     "execution_count": 11,
     "metadata": {},
     "output_type": "execute_result"
    }
   ],
   "source": [
    "X.columns"
   ]
  },
  {
   "cell_type": "code",
   "execution_count": 12,
   "id": "28c0aed7",
   "metadata": {},
   "outputs": [],
   "source": [
    "X=pd.get_dummies(dataset[['AtBat', 'Hits', 'HmRun', 'Runs', 'RBI', 'Walks', 'Years', 'CAtBat',\n",
    "       'CHits', 'CHmRun', 'CRuns', 'CRBI', 'CWalks', 'League', 'Division',\n",
    "       'PutOuts', 'Assists', 'Errors', 'NewLeague']], drop_first=True)"
   ]
  },
  {
   "cell_type": "code",
   "execution_count": 13,
   "id": "0bd1f47d",
   "metadata": {},
   "outputs": [
    {
     "data": {
      "text/html": [
       "<div>\n",
       "<style scoped>\n",
       "    .dataframe tbody tr th:only-of-type {\n",
       "        vertical-align: middle;\n",
       "    }\n",
       "\n",
       "    .dataframe tbody tr th {\n",
       "        vertical-align: top;\n",
       "    }\n",
       "\n",
       "    .dataframe thead th {\n",
       "        text-align: right;\n",
       "    }\n",
       "</style>\n",
       "<table border=\"1\" class=\"dataframe\">\n",
       "  <thead>\n",
       "    <tr style=\"text-align: right;\">\n",
       "      <th></th>\n",
       "      <th>AtBat</th>\n",
       "      <th>Hits</th>\n",
       "      <th>HmRun</th>\n",
       "      <th>Runs</th>\n",
       "      <th>RBI</th>\n",
       "      <th>Walks</th>\n",
       "      <th>Years</th>\n",
       "      <th>CAtBat</th>\n",
       "      <th>CHits</th>\n",
       "      <th>CHmRun</th>\n",
       "      <th>CRuns</th>\n",
       "      <th>CRBI</th>\n",
       "      <th>CWalks</th>\n",
       "      <th>PutOuts</th>\n",
       "      <th>Assists</th>\n",
       "      <th>Errors</th>\n",
       "      <th>League_N</th>\n",
       "      <th>Division_W</th>\n",
       "      <th>NewLeague_N</th>\n",
       "    </tr>\n",
       "  </thead>\n",
       "  <tbody>\n",
       "    <tr>\n",
       "      <th>0</th>\n",
       "      <td>293</td>\n",
       "      <td>66</td>\n",
       "      <td>1</td>\n",
       "      <td>30</td>\n",
       "      <td>29</td>\n",
       "      <td>14</td>\n",
       "      <td>1</td>\n",
       "      <td>293</td>\n",
       "      <td>66</td>\n",
       "      <td>1</td>\n",
       "      <td>30</td>\n",
       "      <td>29</td>\n",
       "      <td>14</td>\n",
       "      <td>446</td>\n",
       "      <td>33</td>\n",
       "      <td>20</td>\n",
       "      <td>0</td>\n",
       "      <td>0</td>\n",
       "      <td>0</td>\n",
       "    </tr>\n",
       "    <tr>\n",
       "      <th>1</th>\n",
       "      <td>315</td>\n",
       "      <td>81</td>\n",
       "      <td>7</td>\n",
       "      <td>24</td>\n",
       "      <td>38</td>\n",
       "      <td>39</td>\n",
       "      <td>14</td>\n",
       "      <td>3449</td>\n",
       "      <td>835</td>\n",
       "      <td>69</td>\n",
       "      <td>321</td>\n",
       "      <td>414</td>\n",
       "      <td>375</td>\n",
       "      <td>632</td>\n",
       "      <td>43</td>\n",
       "      <td>10</td>\n",
       "      <td>1</td>\n",
       "      <td>1</td>\n",
       "      <td>1</td>\n",
       "    </tr>\n",
       "    <tr>\n",
       "      <th>2</th>\n",
       "      <td>479</td>\n",
       "      <td>130</td>\n",
       "      <td>18</td>\n",
       "      <td>66</td>\n",
       "      <td>72</td>\n",
       "      <td>76</td>\n",
       "      <td>3</td>\n",
       "      <td>1624</td>\n",
       "      <td>457</td>\n",
       "      <td>63</td>\n",
       "      <td>224</td>\n",
       "      <td>266</td>\n",
       "      <td>263</td>\n",
       "      <td>880</td>\n",
       "      <td>82</td>\n",
       "      <td>14</td>\n",
       "      <td>0</td>\n",
       "      <td>1</td>\n",
       "      <td>0</td>\n",
       "    </tr>\n",
       "    <tr>\n",
       "      <th>3</th>\n",
       "      <td>496</td>\n",
       "      <td>141</td>\n",
       "      <td>20</td>\n",
       "      <td>65</td>\n",
       "      <td>78</td>\n",
       "      <td>37</td>\n",
       "      <td>11</td>\n",
       "      <td>5628</td>\n",
       "      <td>1575</td>\n",
       "      <td>225</td>\n",
       "      <td>828</td>\n",
       "      <td>838</td>\n",
       "      <td>354</td>\n",
       "      <td>200</td>\n",
       "      <td>11</td>\n",
       "      <td>3</td>\n",
       "      <td>1</td>\n",
       "      <td>0</td>\n",
       "      <td>1</td>\n",
       "    </tr>\n",
       "    <tr>\n",
       "      <th>4</th>\n",
       "      <td>321</td>\n",
       "      <td>87</td>\n",
       "      <td>10</td>\n",
       "      <td>39</td>\n",
       "      <td>42</td>\n",
       "      <td>30</td>\n",
       "      <td>2</td>\n",
       "      <td>396</td>\n",
       "      <td>101</td>\n",
       "      <td>12</td>\n",
       "      <td>48</td>\n",
       "      <td>46</td>\n",
       "      <td>33</td>\n",
       "      <td>805</td>\n",
       "      <td>40</td>\n",
       "      <td>4</td>\n",
       "      <td>1</td>\n",
       "      <td>0</td>\n",
       "      <td>1</td>\n",
       "    </tr>\n",
       "  </tbody>\n",
       "</table>\n",
       "</div>"
      ],
      "text/plain": [
       "   AtBat  Hits  HmRun  Runs  RBI  Walks  Years  CAtBat  CHits  CHmRun  CRuns  \\\n",
       "0    293    66      1    30   29     14      1     293     66       1     30   \n",
       "1    315    81      7    24   38     39     14    3449    835      69    321   \n",
       "2    479   130     18    66   72     76      3    1624    457      63    224   \n",
       "3    496   141     20    65   78     37     11    5628   1575     225    828   \n",
       "4    321    87     10    39   42     30      2     396    101      12     48   \n",
       "\n",
       "   CRBI  CWalks  PutOuts  Assists  Errors  League_N  Division_W  NewLeague_N  \n",
       "0    29      14      446       33      20         0           0            0  \n",
       "1   414     375      632       43      10         1           1            1  \n",
       "2   266     263      880       82      14         0           1            0  \n",
       "3   838     354      200       11       3         1           0            1  \n",
       "4    46      33      805       40       4         1           0            1  "
      ]
     },
     "execution_count": 13,
     "metadata": {},
     "output_type": "execute_result"
    }
   ],
   "source": [
    "X.head()"
   ]
  },
  {
   "cell_type": "markdown",
   "id": "803b6399",
   "metadata": {},
   "source": [
    "- League: A=0, N=1\n",
    "- Division:E=0, W=1\n",
    "- NewLeague: A=0, N=1"
   ]
  },
  {
   "cell_type": "markdown",
   "id": "5de3b182",
   "metadata": {},
   "source": [
    "## Experiment 1"
   ]
  },
  {
   "cell_type": "markdown",
   "id": "c3f15e49",
   "metadata": {},
   "source": [
    "### Split into Training,  Test, and Validation Set"
   ]
  },
  {
   "cell_type": "code",
   "execution_count": 14,
   "id": "b49eca14",
   "metadata": {},
   "outputs": [],
   "source": [
    "from sklearn.model_selection import train_test_split\n",
    "X_train, X_rest, y_train, y_rest=train_test_split(X,y, test_size=.2, random_state=42)"
   ]
  },
  {
   "cell_type": "code",
   "execution_count": 15,
   "id": "9a034e3b",
   "metadata": {},
   "outputs": [],
   "source": [
    "X_test, X_val, y_test, y_val=train_test_split(X_rest, y_rest, test_size=.5, random_state=42)"
   ]
  },
  {
   "cell_type": "markdown",
   "id": "150b8739",
   "metadata": {},
   "source": [
    "### Training Multiple Linear Regression Model on Training Set"
   ]
  },
  {
   "cell_type": "code",
   "execution_count": 16,
   "id": "1505441c",
   "metadata": {},
   "outputs": [
    {
     "data": {
      "text/plain": [
       "LinearRegression()"
      ]
     },
     "execution_count": 16,
     "metadata": {},
     "output_type": "execute_result"
    }
   ],
   "source": [
    "from sklearn.linear_model import LinearRegression\n",
    "regressor=LinearRegression()\n",
    "regressor.fit(X_train.values, y_train)"
   ]
  },
  {
   "cell_type": "markdown",
   "id": "957acbcb",
   "metadata": {},
   "source": [
    "### Intercept and Coefficient"
   ]
  },
  {
   "cell_type": "code",
   "execution_count": 17,
   "id": "0aa8c714",
   "metadata": {},
   "outputs": [
    {
     "name": "stdout",
     "output_type": "stream",
     "text": [
      "Coefficients:  [[  -1.84392487    5.64955572    6.41685771   -0.78471423   -1.80920504\n",
      "     5.39770466   -8.10061575   -0.25169007    0.68436735   -0.12996374\n",
      "     0.82361556    0.8603073    -0.74118308    0.15800697    0.3464796\n",
      "    -3.01441598   56.62249108 -101.33941646  -29.58380564]]\n",
      "Intercept:  [331.99846529]\n"
     ]
    }
   ],
   "source": [
    "print(\"Coefficients: \", regressor.coef_)\n",
    "print(\"Intercept: \", regressor.intercept_)"
   ]
  },
  {
   "cell_type": "code",
   "execution_count": 18,
   "id": "3da77d7b",
   "metadata": {},
   "outputs": [
    {
     "data": {
      "text/plain": [
       "Index(['AtBat', 'Hits', 'HmRun', 'Runs', 'RBI', 'Walks', 'Years', 'CAtBat',\n",
       "       'CHits', 'CHmRun', 'CRuns', 'CRBI', 'CWalks', 'PutOuts', 'Assists',\n",
       "       'Errors', 'League_N', 'Division_W', 'NewLeague_N'],\n",
       "      dtype='object')"
      ]
     },
     "execution_count": 18,
     "metadata": {},
     "output_type": "execute_result"
    }
   ],
   "source": [
    "X_train.columns"
   ]
  },
  {
   "cell_type": "markdown",
   "id": "c91e97f0",
   "metadata": {},
   "source": [
    "### Forumula\n",
    "#### Salary = 382.75 - 1.82(AtBat) + 5.52(Hits) + 5.93(HmRun) - 0.91(Runs) - 1.94(RBI) + 5.15(Walks) - 8.03(Years)  - 0.24 (CAtBat) + 0.62(CHits) - 0.13(CHmRun) + 0.88(CRuns) + 0.87(CRBI) - 0.76(CWalks) + 0.18(PutOuts) + 0.33(Assists) - 3.27(Errors) + 37.49(League_N) - 101.26(Division_W) -24.57(NewLeague_N)"
   ]
  },
  {
   "cell_type": "markdown",
   "id": "5dfe74be",
   "metadata": {},
   "source": [
    "### Validation Set"
   ]
  },
  {
   "cell_type": "code",
   "execution_count": 19,
   "id": "5cc7bf78",
   "metadata": {},
   "outputs": [
    {
     "data": {
      "text/plain": [
       "array([[ 417.53189514],\n",
       "       [ 592.1133885 ],\n",
       "       [ 316.07121096],\n",
       "       [1269.56521234],\n",
       "       [ 346.74426032],\n",
       "       [ 356.21229993],\n",
       "       [ 537.90492192],\n",
       "       [ 199.13324541],\n",
       "       [ 452.53907922],\n",
       "       [ 693.97232683],\n",
       "       [ 484.24769973],\n",
       "       [ 415.25895654],\n",
       "       [ 404.73621505],\n",
       "       [ 932.14482518],\n",
       "       [ 839.65302147],\n",
       "       [1064.41091628],\n",
       "       [ 647.03607922],\n",
       "       [ 398.61437855],\n",
       "       [ 449.70795713],\n",
       "       [ 141.93892064],\n",
       "       [ 418.16794603],\n",
       "       [ 259.26749287],\n",
       "       [1116.78772571],\n",
       "       [1059.5795707 ],\n",
       "       [ 314.40111524],\n",
       "       [ 401.72426547],\n",
       "       [ 309.62090898],\n",
       "       [ 407.44267332],\n",
       "       [ 467.42599149],\n",
       "       [ 376.4879618 ],\n",
       "       [ 440.92052658],\n",
       "       [ 326.3306622 ],\n",
       "       [ 497.91342729]])"
      ]
     },
     "execution_count": 19,
     "metadata": {},
     "output_type": "execute_result"
    }
   ],
   "source": [
    "y_predval=regressor.predict(X_val.values)\n",
    "y_predval"
   ]
  },
  {
   "cell_type": "code",
   "execution_count": 20,
   "id": "18d3cd18",
   "metadata": {},
   "outputs": [],
   "source": [
    "y_validate=y_val.to_numpy()"
   ]
  },
  {
   "cell_type": "code",
   "execution_count": 21,
   "id": "b13949ca",
   "metadata": {},
   "outputs": [
    {
     "data": {
      "text/plain": [
       "array([[ 418.,  210.],\n",
       "       [ 592., 1940.],\n",
       "       [ 316.,  425.],\n",
       "       [1270.,  425.],\n",
       "       [ 347.,  362.],\n",
       "       [ 356.,   90.],\n",
       "       [ 538.,  500.],\n",
       "       [ 199.,  350.],\n",
       "       [ 453.,  535.],\n",
       "       [ 694., 1175.],\n",
       "       [ 484.,  550.],\n",
       "       [ 415.,  525.],\n",
       "       [ 405.,  425.],\n",
       "       [ 932., 1900.],\n",
       "       [ 840., 1670.],\n",
       "       [1064.,  425.],\n",
       "       [ 647., 1100.],\n",
       "       [ 399.,  325.],\n",
       "       [ 450.,  425.],\n",
       "       [ 142.,  175.],\n",
       "       [ 418.,  400.],\n",
       "       [ 259.,  190.],\n",
       "       [1117.,  425.],\n",
       "       [1060.,  775.],\n",
       "       [ 314.,  425.],\n",
       "       [ 402.,  750.],\n",
       "       [ 310.,  425.],\n",
       "       [ 407.,  425.],\n",
       "       [ 467.,  120.],\n",
       "       [ 376.,  145.],\n",
       "       [ 441.,  425.],\n",
       "       [ 326.,  305.],\n",
       "       [ 498.,  215.]])"
      ]
     },
     "execution_count": 21,
     "metadata": {},
     "output_type": "execute_result"
    }
   ],
   "source": [
    "np.hstack((y_predval, y_validate)).round()"
   ]
  },
  {
   "cell_type": "markdown",
   "id": "bb0c033f",
   "metadata": {},
   "source": [
    "### Predicting Test Set Results"
   ]
  },
  {
   "cell_type": "code",
   "execution_count": 22,
   "id": "4a12b50c",
   "metadata": {},
   "outputs": [],
   "source": [
    "y_pred=regressor.predict(X_test.values)"
   ]
  },
  {
   "cell_type": "markdown",
   "id": "296e6b62",
   "metadata": {},
   "source": [
    "### RMSE and R Square"
   ]
  },
  {
   "cell_type": "code",
   "execution_count": 23,
   "id": "60613e36",
   "metadata": {},
   "outputs": [
    {
     "name": "stdout",
     "output_type": "stream",
     "text": [
      "R-Square: 0.57\n",
      "MSE: 70142.46\n",
      "RMSE: 264.84\n"
     ]
    }
   ],
   "source": [
    "from sklearn.metrics import mean_squared_error, r2_score\n",
    "import math\n",
    "\n",
    "print(f\"R-Square: {r2_score(y_test, y_pred):.2f}\")\n",
    "print(f\"MSE: {mean_squared_error(y_test, y_pred):.2f}\")\n",
    "print(f\"RMSE: {math.sqrt(mean_squared_error(y_test, y_pred)):.2f}\")"
   ]
  },
  {
   "cell_type": "markdown",
   "id": "e53786a8",
   "metadata": {},
   "source": [
    "## Experiment 2"
   ]
  },
  {
   "cell_type": "markdown",
   "id": "cde31135",
   "metadata": {},
   "source": [
    "### Split into Training, Test, and Validation Set"
   ]
  },
  {
   "cell_type": "code",
   "execution_count": 24,
   "id": "a41eddab",
   "metadata": {},
   "outputs": [],
   "source": [
    "from sklearn.model_selection import train_test_split\n",
    "X_train, X_rest, y_train, y_rest=train_test_split(X,y, test_size=.25, random_state=42)"
   ]
  },
  {
   "cell_type": "code",
   "execution_count": 25,
   "id": "377d8d62",
   "metadata": {},
   "outputs": [],
   "source": [
    "X_test, X_val, y_test, y_val=train_test_split(X_rest, y_rest, test_size=.5, random_state=42)"
   ]
  },
  {
   "cell_type": "markdown",
   "id": "8b3bd4f1",
   "metadata": {},
   "source": [
    "### Training Multiple Linear Regression Model on Training Set"
   ]
  },
  {
   "cell_type": "code",
   "execution_count": 26,
   "id": "4a6a9180",
   "metadata": {},
   "outputs": [
    {
     "data": {
      "text/plain": [
       "LinearRegression()"
      ]
     },
     "execution_count": 26,
     "metadata": {},
     "output_type": "execute_result"
    }
   ],
   "source": [
    "from sklearn.linear_model import LinearRegression\n",
    "regressor=LinearRegression()\n",
    "regressor.fit(X_train.values, y_train)"
   ]
  },
  {
   "cell_type": "markdown",
   "id": "566942a3",
   "metadata": {},
   "source": [
    "### Intercept and Coefficient"
   ]
  },
  {
   "cell_type": "code",
   "execution_count": 27,
   "id": "94990cd7",
   "metadata": {},
   "outputs": [
    {
     "name": "stdout",
     "output_type": "stream",
     "text": [
      "Coefficients:  [[-1.98139539e+00  5.56706194e+00  5.02528242e+00  9.97471541e-03\n",
      "  -9.20379847e-01  4.92775907e+00 -1.04881295e+01 -2.12593660e-01\n",
      "   5.92982946e-01 -3.56206341e-02  8.80399139e-01  7.97508567e-01\n",
      "  -8.20333345e-01  1.83214183e-01  4.00775139e-01 -4.25390313e+00\n",
      "   5.08151324e+01 -1.15296836e+02 -2.30418537e+01]]\n",
      "Intercept:  [344.32750983]\n"
     ]
    }
   ],
   "source": [
    "print(\"Coefficients: \", regressor.coef_)\n",
    "print(\"Intercept: \", regressor.intercept_)"
   ]
  },
  {
   "cell_type": "markdown",
   "id": "acd65ec4",
   "metadata": {},
   "source": [
    "### Validation Set"
   ]
  },
  {
   "cell_type": "code",
   "execution_count": 28,
   "id": "675745de",
   "metadata": {},
   "outputs": [
    {
     "data": {
      "text/plain": [
       "array([[ 722.81311549],\n",
       "       [ 313.45350872],\n",
       "       [ 390.18493905],\n",
       "       [ 453.81275948],\n",
       "       [ 571.54376591],\n",
       "       [ 901.81420549],\n",
       "       [ 821.23808042],\n",
       "       [ 843.05013078],\n",
       "       [1120.01220681],\n",
       "       [ 199.52167756],\n",
       "       [ 620.31290266],\n",
       "       [ 502.01740272],\n",
       "       [1314.7580425 ],\n",
       "       [ 316.90077465],\n",
       "       [ 357.59555542],\n",
       "       [1271.00752405],\n",
       "       [ 227.43630416],\n",
       "       [ 368.56697532],\n",
       "       [ 312.91851041],\n",
       "       [ 450.40740552],\n",
       "       [ 436.63878882],\n",
       "       [ 440.21316853],\n",
       "       [ 359.96000328],\n",
       "       [ 352.01461701],\n",
       "       [ 855.49723012],\n",
       "       [ 491.65855075],\n",
       "       [ 433.86981468],\n",
       "       [ 579.4471586 ],\n",
       "       [ 549.37354287],\n",
       "       [ 322.51297707],\n",
       "       [ 474.8098845 ],\n",
       "       [ 381.07645326],\n",
       "       [ 587.77817198],\n",
       "       [ 365.96697238],\n",
       "       [ 405.63536177],\n",
       "       [ 421.92067598],\n",
       "       [ 156.6650881 ],\n",
       "       [1075.22521517],\n",
       "       [ 330.6838801 ],\n",
       "       [ 916.66904443],\n",
       "       [ 221.5788191 ]])"
      ]
     },
     "execution_count": 28,
     "metadata": {},
     "output_type": "execute_result"
    }
   ],
   "source": [
    "y_predval=regressor.predict(X_val.values)\n",
    "y_predval"
   ]
  },
  {
   "cell_type": "code",
   "execution_count": 29,
   "id": "83c35563",
   "metadata": {},
   "outputs": [],
   "source": [
    "y_validate=y_val.to_numpy()"
   ]
  },
  {
   "cell_type": "code",
   "execution_count": 30,
   "id": "e6281c7c",
   "metadata": {},
   "outputs": [
    {
     "data": {
      "text/plain": [
       "array([[ 723., 1175.],\n",
       "       [ 313.,  425.],\n",
       "       [ 390.,  215.],\n",
       "       [ 454.,  425.],\n",
       "       [ 572.,  765.],\n",
       "       [ 902.,  800.],\n",
       "       [ 821.,  588.],\n",
       "       [ 843.,  535.],\n",
       "       [1120.,  425.],\n",
       "       [ 200.,  350.],\n",
       "       [ 620.,  850.],\n",
       "       [ 502.,  550.],\n",
       "       [1315.,  777.],\n",
       "       [ 317.,  195.],\n",
       "       [ 358.,   86.],\n",
       "       [1271.,  425.],\n",
       "       [ 227.,  425.],\n",
       "       [ 369.,   90.],\n",
       "       [ 313.,  425.],\n",
       "       [ 450.,  425.],\n",
       "       [ 437.,  525.],\n",
       "       [ 440.,  535.],\n",
       "       [ 360.,  362.],\n",
       "       [ 352.,  425.],\n",
       "       [ 855., 1670.],\n",
       "       [ 492.,  215.],\n",
       "       [ 434.,  278.],\n",
       "       [ 579.,  350.],\n",
       "       [ 549.,  500.],\n",
       "       [ 323.,  250.],\n",
       "       [ 475.,  120.],\n",
       "       [ 381.,  140.],\n",
       "       [ 588.,  425.],\n",
       "       [ 366.,  145.],\n",
       "       [ 406.,  210.],\n",
       "       [ 422.,  750.],\n",
       "       [ 157.,  175.],\n",
       "       [1075.,  425.],\n",
       "       [ 331.,  305.],\n",
       "       [ 917., 1900.],\n",
       "       [ 222.,  385.]])"
      ]
     },
     "execution_count": 30,
     "metadata": {},
     "output_type": "execute_result"
    }
   ],
   "source": [
    "np.hstack((y_predval, y_validate)).round()"
   ]
  },
  {
   "cell_type": "markdown",
   "id": "39ebdd6d",
   "metadata": {},
   "source": [
    "### Predicting Test Set Results"
   ]
  },
  {
   "cell_type": "code",
   "execution_count": 31,
   "id": "141a7fbd",
   "metadata": {},
   "outputs": [],
   "source": [
    "y_pred=regressor.predict(X_test.values)"
   ]
  },
  {
   "cell_type": "markdown",
   "id": "9ad6ea1a",
   "metadata": {},
   "source": [
    "### RMSE and R Square"
   ]
  },
  {
   "cell_type": "code",
   "execution_count": 32,
   "id": "a2a8f68f",
   "metadata": {},
   "outputs": [
    {
     "name": "stdout",
     "output_type": "stream",
     "text": [
      "R-Square: 0.48\n",
      "MSE: 119294.17\n",
      "RMSE: 345.39\n"
     ]
    }
   ],
   "source": [
    "from sklearn.metrics import mean_squared_error, r2_score\n",
    "import math\n",
    "\n",
    "print(f\"R-Square: {r2_score(y_test, y_pred):.2f}\")\n",
    "print(f\"MSE: {mean_squared_error(y_test, y_pred):.2f}\")\n",
    "print(f\"RMSE: {math.sqrt(mean_squared_error(y_test, y_pred)):.2f}\")"
   ]
  },
  {
   "cell_type": "markdown",
   "id": "8bf59620",
   "metadata": {},
   "source": [
    "## Experiment 3"
   ]
  },
  {
   "cell_type": "markdown",
   "id": "b4ef488c",
   "metadata": {},
   "source": [
    "### Split into Training,  Test, and Validation Set"
   ]
  },
  {
   "cell_type": "code",
   "execution_count": 33,
   "id": "ef8c8221",
   "metadata": {},
   "outputs": [],
   "source": [
    "from sklearn.model_selection import train_test_split\n",
    "X_train, X_rest, y_train, y_rest=train_test_split(X,y, test_size=.3, random_state=42)"
   ]
  },
  {
   "cell_type": "code",
   "execution_count": 34,
   "id": "91cec2a1",
   "metadata": {},
   "outputs": [],
   "source": [
    "X_test, X_val, y_test, y_val=train_test_split(X_rest, y_rest, test_size=.5, random_state=42)"
   ]
  },
  {
   "cell_type": "markdown",
   "id": "d9870e0b",
   "metadata": {},
   "source": [
    "### Training Multiple Linear Regression Model on Training Set"
   ]
  },
  {
   "cell_type": "code",
   "execution_count": 35,
   "id": "e6940264",
   "metadata": {},
   "outputs": [
    {
     "data": {
      "text/plain": [
       "LinearRegression()"
      ]
     },
     "execution_count": 35,
     "metadata": {},
     "output_type": "execute_result"
    }
   ],
   "source": [
    "from sklearn.linear_model import LinearRegression\n",
    "regressor=LinearRegression()\n",
    "regressor.fit(X_train.values, y_train)"
   ]
  },
  {
   "cell_type": "markdown",
   "id": "e54aa185",
   "metadata": {},
   "source": [
    "### Intercept and Coefficient"
   ]
  },
  {
   "cell_type": "code",
   "execution_count": 36,
   "id": "24e50c22",
   "metadata": {},
   "outputs": [
    {
     "name": "stdout",
     "output_type": "stream",
     "text": [
      "Coefficients:  [[-1.70175850e+00  4.88773966e+00  5.72615383e+00  9.19167441e-02\n",
      "  -1.26194694e+00  4.78759637e+00 -7.48915497e+00 -1.99429840e-01\n",
      "   4.62411852e-01 -4.92172013e-01  9.17669773e-01  8.27815936e-01\n",
      "  -6.72485239e-01  1.94649725e-01  2.94782930e-01 -3.39774000e+00\n",
      "   7.51523273e+01 -1.07372921e+02 -3.43103413e+01]]\n",
      "Intercept:  [312.20107449]\n"
     ]
    }
   ],
   "source": [
    "print(\"Coefficients: \", regressor.coef_)\n",
    "print(\"Intercept: \", regressor.intercept_)"
   ]
  },
  {
   "cell_type": "markdown",
   "id": "b68934cb",
   "metadata": {},
   "source": [
    "### Validation Set"
   ]
  },
  {
   "cell_type": "code",
   "execution_count": 37,
   "id": "ae98d4e3",
   "metadata": {},
   "outputs": [
    {
     "data": {
      "text/plain": [
       "array([[ 516.69194663],\n",
       "       [ 451.51516085],\n",
       "       [ 579.71821997],\n",
       "       [ 600.03776565],\n",
       "       [ 106.05638864],\n",
       "       [ 534.50186672],\n",
       "       [ 453.56953833],\n",
       "       [ 431.37885674],\n",
       "       [ 762.61481924],\n",
       "       [ 303.61559138],\n",
       "       [ 455.37143696],\n",
       "       [ 706.24106951],\n",
       "       [ 354.86862709],\n",
       "       [ 446.45386867],\n",
       "       [ 335.23275298],\n",
       "       [1075.88776523],\n",
       "       [ 385.77836163],\n",
       "       [ 212.96966571],\n",
       "       [ 367.62817531],\n",
       "       [ 239.94997234],\n",
       "       [ 551.81162045],\n",
       "       [ 880.49427037],\n",
       "       [ 357.5879021 ],\n",
       "       [ 201.58282617],\n",
       "       [ 373.90877242],\n",
       "       [ 496.97181438],\n",
       "       [ 436.74187209],\n",
       "       [ 378.8957762 ],\n",
       "       [ 343.83504302],\n",
       "       [ 882.34604534],\n",
       "       [ 256.81892853],\n",
       "       [ 692.03648606],\n",
       "       [ 826.54904465],\n",
       "       [1571.00846393],\n",
       "       [ 338.76456754],\n",
       "       [1179.94034102],\n",
       "       [1313.11942102],\n",
       "       [ 325.43778423],\n",
       "       [ 528.57936345],\n",
       "       [ 633.04637097],\n",
       "       [ 912.47322344],\n",
       "       [ 560.14278301],\n",
       "       [ 299.12100012],\n",
       "       [ 411.01906515],\n",
       "       [ 407.50646757],\n",
       "       [ 207.55950415],\n",
       "       [ 999.7352935 ],\n",
       "       [ 437.47445277],\n",
       "       [ 906.01680324]])"
      ]
     },
     "execution_count": 37,
     "metadata": {},
     "output_type": "execute_result"
    }
   ],
   "source": [
    "y_predval=regressor.predict(X_val.values)\n",
    "y_predval"
   ]
  },
  {
   "cell_type": "code",
   "execution_count": 38,
   "id": "9baf4b70",
   "metadata": {},
   "outputs": [],
   "source": [
    "y_validate=y_val.to_numpy()"
   ]
  },
  {
   "cell_type": "code",
   "execution_count": 39,
   "id": "e529f2d1",
   "metadata": {},
   "outputs": [
    {
     "data": {
      "text/plain": [
       "array([[ 517.,  215.],\n",
       "       [ 452.,  425.],\n",
       "       [ 580.,  560.],\n",
       "       [ 600.,  765.],\n",
       "       [ 106.,  110.],\n",
       "       [ 535.,  210.],\n",
       "       [ 454.,  535.],\n",
       "       [ 431.,  278.],\n",
       "       [ 763.,  588.],\n",
       "       [ 304.,  425.],\n",
       "       [ 455.,  425.],\n",
       "       [ 706.,  215.],\n",
       "       [ 355.,  425.],\n",
       "       [ 446.,  425.],\n",
       "       [ 335.,  305.],\n",
       "       [1076.,  425.],\n",
       "       [ 386.,  215.],\n",
       "       [ 213.,  350.],\n",
       "       [ 368.,  145.],\n",
       "       [ 240.,  425.],\n",
       "       [ 552.,  850.],\n",
       "       [ 880.,  535.],\n",
       "       [ 358.,   86.],\n",
       "       [ 202.,  342.],\n",
       "       [ 374.,  250.],\n",
       "       [ 497.,  550.],\n",
       "       [ 437.,  525.],\n",
       "       [ 379.,  140.],\n",
       "       [ 344.,  432.],\n",
       "       [ 882., 1310.],\n",
       "       [ 257.,  300.],\n",
       "       [ 692., 1175.],\n",
       "       [ 827.,  800.],\n",
       "       [1571., 2412.],\n",
       "       [ 339.,  362.],\n",
       "       [1180.,  425.],\n",
       "       [1313., 1500.],\n",
       "       [ 325.,  195.],\n",
       "       [ 529.,  500.],\n",
       "       [ 633.,  430.],\n",
       "       [ 912., 1670.],\n",
       "       [ 560.,  425.],\n",
       "       [ 299.,  425.],\n",
       "       [ 411.,  425.],\n",
       "       [ 408.,  750.],\n",
       "       [ 208.,  110.],\n",
       "       [1000.,  425.],\n",
       "       [ 437.,  210.],\n",
       "       [ 906., 1900.]])"
      ]
     },
     "execution_count": 39,
     "metadata": {},
     "output_type": "execute_result"
    }
   ],
   "source": [
    "np.hstack((y_predval, y_validate)).round()"
   ]
  },
  {
   "cell_type": "markdown",
   "id": "6dff07a2",
   "metadata": {},
   "source": [
    "### Predicting Test Set Results"
   ]
  },
  {
   "cell_type": "code",
   "execution_count": 40,
   "id": "e701d0f8",
   "metadata": {},
   "outputs": [],
   "source": [
    "y_pred=regressor.predict(X_test.values)"
   ]
  },
  {
   "cell_type": "markdown",
   "id": "03fa3ada",
   "metadata": {},
   "source": [
    "### RMSE and R Square"
   ]
  },
  {
   "cell_type": "code",
   "execution_count": 41,
   "id": "94a00b72",
   "metadata": {},
   "outputs": [
    {
     "name": "stdout",
     "output_type": "stream",
     "text": [
      "R-Square: 0.47\n",
      "MSE: 111810.01\n",
      "RMSE: 334.38\n"
     ]
    }
   ],
   "source": [
    "from sklearn.metrics import mean_squared_error, r2_score\n",
    "import math\n",
    "\n",
    "print(f\"R-Square: {r2_score(y_test, y_pred):.2f}\")\n",
    "print(f\"MSE: {mean_squared_error(y_test, y_pred):.2f}\")\n",
    "print(f\"RMSE: {math.sqrt(mean_squared_error(y_test, y_pred)):.2f}\")"
   ]
  },
  {
   "cell_type": "code",
   "execution_count": null,
   "id": "3d6c11aa",
   "metadata": {},
   "outputs": [],
   "source": []
  }
 ],
 "metadata": {
  "kernelspec": {
   "display_name": "Python 3 (ipykernel)",
   "language": "python",
   "name": "python3"
  },
  "language_info": {
   "codemirror_mode": {
    "name": "ipython",
    "version": 3
   },
   "file_extension": ".py",
   "mimetype": "text/x-python",
   "name": "python",
   "nbconvert_exporter": "python",
   "pygments_lexer": "ipython3",
   "version": "3.9.12"
  }
 },
 "nbformat": 4,
 "nbformat_minor": 5
}
